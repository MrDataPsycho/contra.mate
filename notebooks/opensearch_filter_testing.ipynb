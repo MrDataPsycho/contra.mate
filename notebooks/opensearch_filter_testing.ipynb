{
 "cells": [
  {
   "cell_type": "markdown",
   "metadata": {},
   "source": [
    "# OpenSearch Filter Testing Notebook\n",
    "\n",
    "This notebook tests the OpenSearch filter capabilities with real project and document IDs from the bronze-v2 dataset."
   ]
  },
  {
   "cell_type": "markdown",
   "metadata": {},
   "source": [
    "## 1. Setup and Imports"
   ]
  },
  {
   "cell_type": "code",
   "execution_count": 9,
   "metadata": {},
   "outputs": [],
   "source": [
    "from contramate.models import OpenSearchFilter, DocumentFilter\n",
    "from sample_data_ids import (\n",
    "    get_sample_project_id,\n",
    "    get_sample_document_id,\n",
    "    print_sample_data\n",
    ")\n",
    "from contramate.services.opensearch_vector_search_service import OpenSearchVectorSearchServiceFactory\n",
    "from pathlib import Path\n",
    "from contramate.models import DocumentSource"
   ]
  },
  {
   "cell_type": "markdown",
   "metadata": {},
   "source": [
    "## 2. Display Sample Data\n",
    "\n",
    "Show the real project IDs and document IDs from bronze-v2 that we'll use for testing."
   ]
  },
  {
   "cell_type": "code",
   "execution_count": 10,
   "metadata": {},
   "outputs": [
    {
     "name": "stdout",
     "output_type": "stream",
     "text": [
      "Sample Data from bronze-v2\n",
      "================================================================================\n",
      "\n",
      "Project 1:\n",
      "  ID: 00149794-2432-4c18-b491-73d0fafd3efd\n",
      "  Document 1: 577ff0a3-a032-5e23-bde3-0b6179e97949\n",
      "  Composite: 00149794-2432-4c18-b491-73d0fafd3efd-577ff0a3-a032-5e23-bde3-0b6179e97949\n",
      "\n",
      "Project 2:\n",
      "  ID: 008a9fd2-9a4a-4c3f-ad5c-d33eca94af3b\n",
      "  Document 1: aa1a0c65-8016-5d11-bbde-22055140660b\n",
      "  Composite: 008a9fd2-9a4a-4c3f-ad5c-d33eca94af3b-aa1a0c65-8016-5d11-bbde-22055140660b\n",
      "\n",
      "Project 3:\n",
      "  ID: 0096b72f-1c0d-4724-924f-011f87d3591a\n",
      "  Document 1: 16b6078b-248c-5ed9-83ef-20ee0af49396\n",
      "  Composite: 0096b72f-1c0d-4724-924f-011f87d3591a-16b6078b-248c-5ed9-83ef-20ee0af49396\n",
      "\n",
      "Project 4:\n",
      "  ID: 00ab9a0d-4510-4833-bbdb-07abd9e49775\n",
      "  Document 1: f8f43441-a1be-520b-87b7-14ca6f09b41d\n",
      "  Composite: 00ab9a0d-4510-4833-bbdb-07abd9e49775-f8f43441-a1be-520b-87b7-14ca6f09b41d\n",
      "\n",
      "Project 5:\n",
      "  ID: 00b8501a-19e1-4004-a1ef-76636d796c79\n"
     ]
    }
   ],
   "source": [
    "print_sample_data()"
   ]
  },
  {
   "cell_type": "markdown",
   "metadata": {},
   "source": [
    "## 3. Initialize OpenSearch Service"
   ]
  },
  {
   "cell_type": "code",
   "execution_count": 11,
   "metadata": {},
   "outputs": [
    {
     "name": "stdout",
     "output_type": "stream",
     "text": [
      "Using env file at: /Users/datapsycho/PythonProjects/AgentEngBootCamp/contramate/.envs/local.env\n"
     ]
    }
   ],
   "source": [
    "ENV_FILE_PATH = Path().absolute().parent / \".envs\" / \"local.env\"\n",
    "print(f\"Using env file at: {ENV_FILE_PATH}\")"
   ]
  },
  {
   "cell_type": "code",
   "execution_count": 12,
   "metadata": {},
   "outputs": [
    {
     "name": "stderr",
     "output_type": "stream",
     "text": [
      "\u001b[32m2025-10-19 20:25:35.346\u001b[0m | \u001b[1mINFO    \u001b[0m | \u001b[36mcontramate.integrations.aws.opensearch\u001b[0m:\u001b[36mcreate_opensearch_client\u001b[0m:\u001b[36m52\u001b[0m - \u001b[1mCreated OpenSearch client for localhost:9200\u001b[0m\n",
      "2025-10-19 20:25:35 - opensearch - INFO - GET http://localhost:9200/ [status:200 request:0.005s]\n",
      "2025-10-19 20:25:35 - opensearch - INFO - HEAD http://localhost:9200/contracts-v1 [status:200 request:0.003s]\n",
      "2025-10-19 20:25:35 - opensearch - INFO - POST http://localhost:9200/contracts-v1/_count [status:200 request:0.004s]\n"
     ]
    },
    {
     "name": "stdout",
     "output_type": "stream",
     "text": [
      "✓ Connected to OpenSearch cluster: opensearch-cluster\n",
      "  Version: 2.11.1\n",
      "✓ Index 'contracts-v1' exists\n",
      "  Total documents: 1,880\n"
     ]
    }
   ],
   "source": [
    "# Initialize search service\n",
    "search_service = OpenSearchVectorSearchServiceFactory.from_env_file(ENV_FILE_PATH)\n",
    "\n",
    "# Verify connection\n",
    "try:\n",
    "    info = search_service.client.info()\n",
    "    print(f\"✓ Connected to OpenSearch cluster: {info['cluster_name']}\")\n",
    "    print(f\"  Version: {info['version']['number']}\")\n",
    "except Exception as e:\n",
    "    print(f\"✗ Connection failed: {e}\")\n",
    "\n",
    "# Check index exists\n",
    "index_name = search_service.index_name\n",
    "if search_service.client.indices.exists(index=index_name):\n",
    "    print(f\"✓ Index '{index_name}' exists\")\n",
    "    \n",
    "    # Get document count\n",
    "    count = search_service.client.count(index=index_name)\n",
    "    print(f\"  Total documents: {count['count']:,}\")\n",
    "else:\n",
    "    print(f\"✗ Index '{index_name}' does not exist\")"
   ]
  },
  {
   "cell_type": "markdown",
   "metadata": {},
   "source": [
    "## 4. Test Filter Models\n",
    "\n",
    "Create various filter configurations using real data from bronze-v2."
   ]
  },
  {
   "cell_type": "code",
   "execution_count": 13,
   "metadata": {},
   "outputs": [
    {
     "name": "stdout",
     "output_type": "stream",
     "text": [
      "Test 1: Single Document Filter\n",
      "============================================================\n",
      "Project ID: 00149794-2432-4c18-b491-73d0fafd3efd\n",
      "Document ID: 577ff0a3-a032-5e23-bde3-0b6179e97949\n",
      "Composite ID: 00149794-2432-4c18-b491-73d0fafd3efd-577ff0a3-a032-5e23-bde3-0b6179e97949\n",
      "\n",
      "Filter Clauses:\n",
      "  {'term': {'project_reference_doc_id': '00149794-2432-4c18-b491-73d0fafd3efd-577ff0a3-a032-5e23-bde3-0b6179e97949'}}\n",
      "\n"
     ]
    }
   ],
   "source": [
    "# Test 1: Single document filter\n",
    "print(\"Test 1: Single Document Filter\")\n",
    "print(\"=\" * 60)\n",
    "\n",
    "project_id = get_sample_project_id(0)\n",
    "doc_id = get_sample_document_id(project_id, 0)\n",
    "\n",
    "single_doc_filter = OpenSearchFilter(\n",
    "    documents=[\n",
    "        DocumentFilter(project_id=project_id, reference_doc_id=doc_id)\n",
    "    ]\n",
    ")\n",
    "\n",
    "print(f\"Project ID: {project_id}\")\n",
    "print(f\"Document ID: {doc_id}\")\n",
    "print(f\"Composite ID: {project_id}-{doc_id}\")\n",
    "print(f\"\\nFilter Clauses:\")\n",
    "for clause in single_doc_filter.to_opensearch_filters():\n",
    "    print(f\"  {clause}\")\n",
    "print()"
   ]
  },
  {
   "cell_type": "code",
   "execution_count": 14,
   "metadata": {},
   "outputs": [
    {
     "name": "stdout",
     "output_type": "stream",
     "text": [
      "Test 2: Multiple Document Filter\n",
      "============================================================\n",
      "Number of documents: 3\n",
      "\n",
      "Filter Clauses:\n",
      "  {'terms': {'project_reference_doc_id': ['00149794-2432-4c18-b491-73d0fafd3efd-577ff0a3-a032-5e23-bde3-0b6179e97949', '008a9fd2-9a4a-4c3f-ad5c-d33eca94af3b-aa1a0c65-8016-5d11-bbde-22055140660b', '0096b72f-1c0d-4724-924f-011f87d3591a-16b6078b-248c-5ed9-83ef-20ee0af49396']}}\n",
      "\n"
     ]
    }
   ],
   "source": [
    "# Test 2: Multiple document filter\n",
    "print(\"Test 2: Multiple Document Filter\")\n",
    "print(\"=\" * 60)\n",
    "\n",
    "multi_doc_filter = OpenSearchFilter(\n",
    "    documents=[\n",
    "        DocumentFilter(\n",
    "            project_id=get_sample_project_id(0),\n",
    "            reference_doc_id=get_sample_document_id(get_sample_project_id(0), 0)\n",
    "        ),\n",
    "        DocumentFilter(\n",
    "            project_id=get_sample_project_id(1),\n",
    "            reference_doc_id=get_sample_document_id(get_sample_project_id(1), 0)\n",
    "        ),\n",
    "        DocumentFilter(\n",
    "            project_id=get_sample_project_id(2),\n",
    "            reference_doc_id=get_sample_document_id(get_sample_project_id(2), 0)\n",
    "        ),\n",
    "    ]\n",
    ")\n",
    "\n",
    "print(f\"Number of documents: 3\")\n",
    "print(f\"\\nFilter Clauses:\")\n",
    "for clause in multi_doc_filter.to_opensearch_filters():\n",
    "    print(f\"  {clause}\")\n",
    "print()"
   ]
  },
  {
   "cell_type": "code",
   "execution_count": 15,
   "metadata": {},
   "outputs": [
    {
     "name": "stdout",
     "output_type": "stream",
     "text": [
      "Test 3: Project ID Filter\n",
      "============================================================\n",
      "Project IDs: ['00149794-2432-4c18-b491-73d0fafd3efd', '008a9fd2-9a4a-4c3f-ad5c-d33eca94af3b']\n",
      "\n",
      "Filter Clauses:\n",
      "  {'terms': {'project_id': ['00149794-2432-4c18-b491-73d0fafd3efd', '008a9fd2-9a4a-4c3f-ad5c-d33eca94af3b']}}\n",
      "\n"
     ]
    }
   ],
   "source": [
    "# Test 3: Project ID filter\n",
    "print(\"Test 3: Project ID Filter\")\n",
    "print(\"=\" * 60)\n",
    "\n",
    "project_filter = OpenSearchFilter(\n",
    "    project_id=[get_sample_project_id(0), get_sample_project_id(1)]\n",
    ")\n",
    "\n",
    "print(f\"Project IDs: {project_filter.project_id}\")\n",
    "print(f\"\\nFilter Clauses:\")\n",
    "for clause in project_filter.to_opensearch_filters():\n",
    "    print(f\"  {clause}\")\n",
    "print()"
   ]
  },
  {
   "cell_type": "code",
   "execution_count": 16,
   "metadata": {},
   "outputs": [
    {
     "name": "stdout",
     "output_type": "stream",
     "text": [
      "Test 4: Document Source Filter\n",
      "============================================================\n",
      "Document Source: system\n",
      "\n",
      "Filter Clauses:\n",
      "  {'term': {'content_source': 'system'}}\n",
      "\n"
     ]
    }
   ],
   "source": [
    "# Test 4: Document source filter\n",
    "print(\"Test 4: Document Source Filter\")\n",
    "print(\"=\" * 60)\n",
    "\n",
    "source_filter = OpenSearchFilter(\n",
    "    doc_source=DocumentSource.system\n",
    ")\n",
    "\n",
    "print(f\"Document Source: {source_filter.doc_source}\")\n",
    "print(f\"\\nFilter Clauses:\")\n",
    "for clause in source_filter.to_opensearch_filters():\n",
    "    print(f\"  {clause}\")\n",
    "print()"
   ]
  },
  {
   "cell_type": "code",
   "execution_count": 17,
   "metadata": {},
   "outputs": [
    {
     "name": "stdout",
     "output_type": "stream",
     "text": [
      "Test 5: Combined Filters\n",
      "============================================================\n",
      "Project IDs: ['00149794-2432-4c18-b491-73d0fafd3efd']\n",
      "Document Source: system\n",
      "Contract Types: ['NDA', 'Service Agreement']\n",
      "\n",
      "Filter Clauses:\n",
      "  {'term': {'content_source': 'system'}}\n",
      "  {'terms': {'contract_type': ['NDA', 'Service Agreement']}}\n",
      "  {'term': {'project_id': '00149794-2432-4c18-b491-73d0fafd3efd'}}\n",
      "\n"
     ]
    }
   ],
   "source": [
    "# Test 5: Combined filters\n",
    "print(\"Test 5: Combined Filters\")\n",
    "print(\"=\" * 60)\n",
    "\n",
    "combined_filter = OpenSearchFilter(\n",
    "    project_id=[get_sample_project_id(0)],\n",
    "    doc_source=DocumentSource.system,\n",
    "    contract_type=[\"NDA\", \"Service Agreement\"]\n",
    ")\n",
    "\n",
    "print(f\"Project IDs: {combined_filter.project_id}\")\n",
    "print(f\"Document Source: {combined_filter.doc_source}\")\n",
    "print(f\"Contract Types: {combined_filter.contract_type}\")\n",
    "print(f\"\\nFilter Clauses:\")\n",
    "for clause in combined_filter.to_opensearch_filters():\n",
    "    print(f\"  {clause}\")\n",
    "print()"
   ]
  },
  {
   "cell_type": "markdown",
   "metadata": {},
   "source": [
    "## 5. Test Search with Filters\n",
    "\n",
    "Execute actual searches using the filter models with real data."
   ]
  },
  {
   "cell_type": "markdown",
   "metadata": {},
   "source": [
    "# Verify Embedding Model Configuration"
   ]
  },
  {
   "cell_type": "code",
   "execution_count": 19,
   "metadata": {},
   "outputs": [
    {
     "name": "stdout",
     "output_type": "stream",
     "text": [
      "Embedding Client Configuration:\n",
      "============================================================\n",
      "Model: text-embedding-3-small\n",
      "Expected dimensions: 1536 (text-embedding-3-small) or 3072 (text-embedding-3-large)\n"
     ]
    },
    {
     "name": "stderr",
     "output_type": "stream",
     "text": [
      "2025-10-19 20:38:33 - httpx - INFO - HTTP Request: POST https://api.openai.com/v1/embeddings \"HTTP/1.1 200 OK\"\n"
     ]
    },
    {
     "name": "stdout",
     "output_type": "stream",
     "text": [
      "Actual dimensions: 1536\n",
      "✓ Correct model (text-embedding-3-small)\n"
     ]
    }
   ],
   "source": [
    "# Check embedding model configuration\n",
    "print(\"Embedding Client Configuration:\")\n",
    "print(\"=\" * 60)\n",
    "print(f\"Model: {search_service.embedding_client.default_embedding_model}\")\n",
    "print(f\"Expected dimensions: 1536 (text-embedding-3-small) or 3072 (text-embedding-3-large)\")\n",
    "\n",
    "# Test by generating a sample embedding\n",
    "test_embedding_response = search_service.embedding_client.create_embeddings(\"test\")\n",
    "test_dimension = len(test_embedding_response.embeddings[0])\n",
    "print(f\"Actual dimensions: {test_dimension}\")\n",
    "\n",
    "if test_dimension == 1536:\n",
    "    print(\"✓ Correct model (text-embedding-3-small)\")\n",
    "elif test_dimension == 3072:\n",
    "    print(\"✗ Wrong model! Using text-embedding-3-large instead of text-embedding-3-small\")\n",
    "    print(\"  Please restart the notebook kernel and re-run all cells\")\n",
    "else:\n",
    "    print(f\"⚠ Unexpected dimension: {test_dimension}\")"
   ]
  },
  {
   "cell_type": "code",
   "execution_count": 22,
   "metadata": {},
   "outputs": [
    {
     "name": "stderr",
     "output_type": "stream",
     "text": [
      "\u001b[32m2025-10-19 20:40:53.131\u001b[0m | \u001b[1mINFO    \u001b[0m | \u001b[36mcontramate.services.opensearch_vector_search_service\u001b[0m:\u001b[36mhybrid_search\u001b[0m:\u001b[36m377\u001b[0m - \u001b[1m🔍 Performing hybrid search for: 'termination clause...'\u001b[0m\n"
     ]
    },
    {
     "name": "stdout",
     "output_type": "stream",
     "text": [
      "Search 3: Hybrid Search with Combined Filters\n",
      "============================================================\n"
     ]
    },
    {
     "name": "stderr",
     "output_type": "stream",
     "text": [
      "2025-10-19 20:40:53 - httpx - INFO - HTTP Request: POST https://api.openai.com/v1/embeddings \"HTTP/1.1 200 OK\"\n",
      "\u001b[32m2025-10-19 20:40:53.443\u001b[0m | \u001b[1mINFO    \u001b[0m | \u001b[36mcontramate.services.opensearch_vector_search_service\u001b[0m:\u001b[36mhybrid_search\u001b[0m:\u001b[36m383\u001b[0m - \u001b[1m✅ Generated embedding vector with 1536 dimensions\u001b[0m\n",
      "2025-10-19 20:40:53 - opensearch - INFO - POST http://localhost:9200/contracts-v1/_search [status:200 request:0.106s]\n",
      "\u001b[32m2025-10-19 20:40:53.553\u001b[0m | \u001b[1mINFO    \u001b[0m | \u001b[36mcontramate.services.opensearch_vector_search_service\u001b[0m:\u001b[36mhybrid_search\u001b[0m:\u001b[36m475\u001b[0m - \u001b[1m✅ Hybrid search returned 5 results\u001b[0m\n"
     ]
    },
    {
     "name": "stdout",
     "output_type": "stream",
     "text": [
      "Query: 'termination clause'\n",
      "Filter: Project + Source + Contract Type\n",
      "Results: 5 documents found\n",
      "\n",
      "1. Score: 5.5104\n",
      "   Project: 00149794...\n",
      "   Source: system\n",
      "   Content: Context: Document Preamble\n",
      "\n",
      "24.  Security and Disaster Recovery\n",
      "\n",
      "Context: Document Preamble > 24. Se...\n",
      "\n",
      "2. Score: 4.9936\n",
      "   Project: 00149794...\n",
      "   Source: system\n",
      "   Content: Context: Document Preamble > 13. Permitted Users, Pricing and Subscription Information\n",
      "\n",
      "13.1. The Pu...\n",
      "\n",
      "3. Score: 4.8747\n",
      "   Project: 00149794...\n",
      "   Source: system\n",
      "   Content: EXHIBIT 10.1\n",
      "\n",
      "ELECTRONIC JOURNAL SOFT WARE DEVELOPMENT,\n",
      "\n",
      "HOSTING AND MANAGEMENT AGREEMENT\n",
      "\n",
      "This AGRE...\n",
      "\n",
      "4. Score: 4.0762\n",
      "   Project: 00149794...\n",
      "   Source: system\n",
      "   Content: Context: Document Preamble > 33. Rights Upon Termination > 33.1. Commencing upon any notice of termi...\n",
      "\n",
      "5. Score: 1.4221\n",
      "   Project: 00149794...\n",
      "   Source: system\n",
      "   Content: Context: Document Preamble\n",
      "\n",
      "2.  The Modify Profile page will allow them to go to a change password\n",
      "\n",
      "...\n",
      "\n",
      "\n"
     ]
    }
   ],
   "source": [
    "# Search 3: Hybrid search with combined filters\n",
    "print(\"Search 3: Hybrid Search with Combined Filters\")\n",
    "print(\"=\" * 60)\n",
    "\n",
    "filter_dict = {\n",
    "    \"project_id\": [get_sample_project_id(0)],\n",
    "    \"doc_source\": \"system\",\n",
    "    # \"contract_type\": [\"NDA\"]\n",
    "}\n",
    "\n",
    "try:\n",
    "    result = search_service.hybrid_search(\n",
    "        query=\"termination clause\",\n",
    "        filters=filter_dict,\n",
    "        size=5\n",
    "    )\n",
    "    \n",
    "    if result.is_ok():\n",
    "        response = result.unwrap()\n",
    "        print(f\"Query: 'termination clause'\")\n",
    "        print(f\"Filter: Project + Source + Contract Type\")\n",
    "        print(f\"Results: {len(response.results)} documents found\\n\")\n",
    "        \n",
    "        for i, search_result in enumerate(response.results, 1):\n",
    "            print(f\"{i}. Score: {search_result.score:.4f}\")\n",
    "            print(f\"   Project: {search_result.project_id[:8]}...\")\n",
    "            print(f\"   Source: {search_result.content_source}\")\n",
    "            print(f\"   Content: {search_result.content[:100]}...\\n\")\n",
    "    else:\n",
    "        print(f\"Search failed: {result.err()}\")\n",
    "        \n",
    "except Exception as e:\n",
    "    print(f\"Search failed: {e}\")\n",
    "\n",
    "print()"
   ]
  },
  {
   "cell_type": "markdown",
   "metadata": {},
   "source": [
    "## 6. Performance Comparison\n",
    "\n",
    "Compare search performance with and without filters."
   ]
  },
  {
   "cell_type": "code",
   "execution_count": 23,
   "metadata": {},
   "outputs": [
    {
     "name": "stderr",
     "output_type": "stream",
     "text": [
      "\u001b[32m2025-10-19 20:41:05.239\u001b[0m | \u001b[1mINFO    \u001b[0m | \u001b[36mcontramate.services.opensearch_vector_search_service\u001b[0m:\u001b[36msemantic_search\u001b[0m:\u001b[36m175\u001b[0m - \u001b[1m🔍 Generating embedding for query: 'intellectual property rights...'\u001b[0m\n"
     ]
    },
    {
     "name": "stdout",
     "output_type": "stream",
     "text": [
      "Performance Comparison\n",
      "============================================================\n",
      "Query: 'intellectual property rights'\n",
      "Iterations: 3\n",
      "\n",
      "Test 1: No Filters\n"
     ]
    },
    {
     "name": "stderr",
     "output_type": "stream",
     "text": [
      "2025-10-19 20:41:06 - httpx - INFO - HTTP Request: POST https://api.openai.com/v1/embeddings \"HTTP/1.1 200 OK\"\n",
      "\u001b[32m2025-10-19 20:41:06.785\u001b[0m | \u001b[1mINFO    \u001b[0m | \u001b[36mcontramate.services.opensearch_vector_search_service\u001b[0m:\u001b[36msemantic_search\u001b[0m:\u001b[36m181\u001b[0m - \u001b[1m✅ Generated embedding vector with 1536 dimensions\u001b[0m\n",
      "2025-10-19 20:41:06 - opensearch - INFO - POST http://localhost:9200/contracts-v1/_search [status:200 request:0.040s]\n",
      "\u001b[32m2025-10-19 20:41:06.829\u001b[0m | \u001b[1mINFO    \u001b[0m | \u001b[36mcontramate.services.opensearch_vector_search_service\u001b[0m:\u001b[36msemantic_search\u001b[0m:\u001b[36m230\u001b[0m - \u001b[1m✅ Semantic search returned 10 results above threshold 0.5\u001b[0m\n",
      "\u001b[32m2025-10-19 20:41:06.830\u001b[0m | \u001b[1mINFO    \u001b[0m | \u001b[36mcontramate.services.opensearch_vector_search_service\u001b[0m:\u001b[36msemantic_search\u001b[0m:\u001b[36m175\u001b[0m - \u001b[1m🔍 Generating embedding for query: 'intellectual property rights...'\u001b[0m\n"
     ]
    },
    {
     "name": "stdout",
     "output_type": "stream",
     "text": [
      "  Run 1: 1.590s (10 results)\n"
     ]
    },
    {
     "name": "stderr",
     "output_type": "stream",
     "text": [
      "2025-10-19 20:41:07 - httpx - INFO - HTTP Request: POST https://api.openai.com/v1/embeddings \"HTTP/1.1 200 OK\"\n",
      "\u001b[32m2025-10-19 20:41:07.254\u001b[0m | \u001b[1mINFO    \u001b[0m | \u001b[36mcontramate.services.opensearch_vector_search_service\u001b[0m:\u001b[36msemantic_search\u001b[0m:\u001b[36m181\u001b[0m - \u001b[1m✅ Generated embedding vector with 1536 dimensions\u001b[0m\n",
      "2025-10-19 20:41:07 - opensearch - INFO - POST http://localhost:9200/contracts-v1/_search [status:200 request:0.038s]\n",
      "\u001b[32m2025-10-19 20:41:07.298\u001b[0m | \u001b[1mINFO    \u001b[0m | \u001b[36mcontramate.services.opensearch_vector_search_service\u001b[0m:\u001b[36msemantic_search\u001b[0m:\u001b[36m230\u001b[0m - \u001b[1m✅ Semantic search returned 10 results above threshold 0.5\u001b[0m\n",
      "\u001b[32m2025-10-19 20:41:07.299\u001b[0m | \u001b[1mINFO    \u001b[0m | \u001b[36mcontramate.services.opensearch_vector_search_service\u001b[0m:\u001b[36msemantic_search\u001b[0m:\u001b[36m175\u001b[0m - \u001b[1m🔍 Generating embedding for query: 'intellectual property rights...'\u001b[0m\n"
     ]
    },
    {
     "name": "stdout",
     "output_type": "stream",
     "text": [
      "  Run 2: 0.469s (10 results)\n"
     ]
    },
    {
     "name": "stderr",
     "output_type": "stream",
     "text": [
      "2025-10-19 20:41:07 - httpx - INFO - HTTP Request: POST https://api.openai.com/v1/embeddings \"HTTP/1.1 200 OK\"\n",
      "\u001b[32m2025-10-19 20:41:07.694\u001b[0m | \u001b[1mINFO    \u001b[0m | \u001b[36mcontramate.services.opensearch_vector_search_service\u001b[0m:\u001b[36msemantic_search\u001b[0m:\u001b[36m181\u001b[0m - \u001b[1m✅ Generated embedding vector with 1536 dimensions\u001b[0m\n",
      "2025-10-19 20:41:07 - opensearch - INFO - POST http://localhost:9200/contracts-v1/_search [status:200 request:0.032s]\n",
      "\u001b[32m2025-10-19 20:41:07.729\u001b[0m | \u001b[1mINFO    \u001b[0m | \u001b[36mcontramate.services.opensearch_vector_search_service\u001b[0m:\u001b[36msemantic_search\u001b[0m:\u001b[36m230\u001b[0m - \u001b[1m✅ Semantic search returned 10 results above threshold 0.5\u001b[0m\n",
      "\u001b[32m2025-10-19 20:41:07.730\u001b[0m | \u001b[1mINFO    \u001b[0m | \u001b[36mcontramate.services.opensearch_vector_search_service\u001b[0m:\u001b[36msemantic_search\u001b[0m:\u001b[36m175\u001b[0m - \u001b[1m🔍 Generating embedding for query: 'intellectual property rights...'\u001b[0m\n"
     ]
    },
    {
     "name": "stdout",
     "output_type": "stream",
     "text": [
      "  Run 3: 0.431s (10 results)\n",
      "  Average: 0.830s\n",
      "\n",
      "Test 2: With Project Filter\n"
     ]
    },
    {
     "name": "stderr",
     "output_type": "stream",
     "text": [
      "2025-10-19 20:41:07 - httpx - INFO - HTTP Request: POST https://api.openai.com/v1/embeddings \"HTTP/1.1 200 OK\"\n",
      "\u001b[32m2025-10-19 20:41:08.003\u001b[0m | \u001b[1mINFO    \u001b[0m | \u001b[36mcontramate.services.opensearch_vector_search_service\u001b[0m:\u001b[36msemantic_search\u001b[0m:\u001b[36m181\u001b[0m - \u001b[1m✅ Generated embedding vector with 1536 dimensions\u001b[0m\n",
      "2025-10-19 20:41:08 - opensearch - INFO - POST http://localhost:9200/contracts-v1/_search [status:200 request:0.024s]\n",
      "\u001b[32m2025-10-19 20:41:08.043\u001b[0m | \u001b[1mINFO    \u001b[0m | \u001b[36mcontramate.services.opensearch_vector_search_service\u001b[0m:\u001b[36msemantic_search\u001b[0m:\u001b[36m230\u001b[0m - \u001b[1m✅ Semantic search returned 0 results above threshold 0.5\u001b[0m\n",
      "\u001b[32m2025-10-19 20:41:08.043\u001b[0m | \u001b[1mINFO    \u001b[0m | \u001b[36mcontramate.services.opensearch_vector_search_service\u001b[0m:\u001b[36msemantic_search\u001b[0m:\u001b[36m175\u001b[0m - \u001b[1m🔍 Generating embedding for query: 'intellectual property rights...'\u001b[0m\n"
     ]
    },
    {
     "name": "stdout",
     "output_type": "stream",
     "text": [
      "  Run 1: 0.313s (0 results)\n"
     ]
    },
    {
     "name": "stderr",
     "output_type": "stream",
     "text": [
      "2025-10-19 20:41:08 - httpx - INFO - HTTP Request: POST https://api.openai.com/v1/embeddings \"HTTP/1.1 200 OK\"\n",
      "\u001b[32m2025-10-19 20:41:08.277\u001b[0m | \u001b[1mINFO    \u001b[0m | \u001b[36mcontramate.services.opensearch_vector_search_service\u001b[0m:\u001b[36msemantic_search\u001b[0m:\u001b[36m181\u001b[0m - \u001b[1m✅ Generated embedding vector with 1536 dimensions\u001b[0m\n",
      "2025-10-19 20:41:08 - opensearch - INFO - POST http://localhost:9200/contracts-v1/_search [status:200 request:0.011s]\n",
      "\u001b[32m2025-10-19 20:41:08.290\u001b[0m | \u001b[1mINFO    \u001b[0m | \u001b[36mcontramate.services.opensearch_vector_search_service\u001b[0m:\u001b[36msemantic_search\u001b[0m:\u001b[36m230\u001b[0m - \u001b[1m✅ Semantic search returned 0 results above threshold 0.5\u001b[0m\n",
      "\u001b[32m2025-10-19 20:41:08.290\u001b[0m | \u001b[1mINFO    \u001b[0m | \u001b[36mcontramate.services.opensearch_vector_search_service\u001b[0m:\u001b[36msemantic_search\u001b[0m:\u001b[36m175\u001b[0m - \u001b[1m🔍 Generating embedding for query: 'intellectual property rights...'\u001b[0m\n",
      "2025-10-19 20:41:08 - httpx - INFO - HTTP Request: POST https://api.openai.com/v1/embeddings \"HTTP/1.1 200 OK\"\n"
     ]
    },
    {
     "name": "stdout",
     "output_type": "stream",
     "text": [
      "  Run 2: 0.247s (0 results)\n"
     ]
    },
    {
     "name": "stderr",
     "output_type": "stream",
     "text": [
      "\u001b[32m2025-10-19 20:41:08.492\u001b[0m | \u001b[1mINFO    \u001b[0m | \u001b[36mcontramate.services.opensearch_vector_search_service\u001b[0m:\u001b[36msemantic_search\u001b[0m:\u001b[36m181\u001b[0m - \u001b[1m✅ Generated embedding vector with 1536 dimensions\u001b[0m\n",
      "2025-10-19 20:41:08 - opensearch - INFO - POST http://localhost:9200/contracts-v1/_search [status:200 request:0.013s]\n",
      "\u001b[32m2025-10-19 20:41:08.507\u001b[0m | \u001b[1mINFO    \u001b[0m | \u001b[36mcontramate.services.opensearch_vector_search_service\u001b[0m:\u001b[36msemantic_search\u001b[0m:\u001b[36m230\u001b[0m - \u001b[1m✅ Semantic search returned 0 results above threshold 0.5\u001b[0m\n",
      "\u001b[32m2025-10-19 20:41:08.508\u001b[0m | \u001b[1mINFO    \u001b[0m | \u001b[36mcontramate.services.opensearch_vector_search_service\u001b[0m:\u001b[36msemantic_search\u001b[0m:\u001b[36m175\u001b[0m - \u001b[1m🔍 Generating embedding for query: 'intellectual property rights...'\u001b[0m\n"
     ]
    },
    {
     "name": "stdout",
     "output_type": "stream",
     "text": [
      "  Run 3: 0.217s (0 results)\n",
      "  Average: 0.259s\n",
      "\n",
      "Test 3: With Multiple Filters\n"
     ]
    },
    {
     "name": "stderr",
     "output_type": "stream",
     "text": [
      "2025-10-19 20:41:08 - httpx - INFO - HTTP Request: POST https://api.openai.com/v1/embeddings \"HTTP/1.1 200 OK\"\n",
      "\u001b[32m2025-10-19 20:41:08.711\u001b[0m | \u001b[1mINFO    \u001b[0m | \u001b[36mcontramate.services.opensearch_vector_search_service\u001b[0m:\u001b[36msemantic_search\u001b[0m:\u001b[36m181\u001b[0m - \u001b[1m✅ Generated embedding vector with 1536 dimensions\u001b[0m\n",
      "2025-10-19 20:41:08 - opensearch - INFO - POST http://localhost:9200/contracts-v1/_search [status:200 request:0.017s]\n",
      "\u001b[32m2025-10-19 20:41:08.731\u001b[0m | \u001b[1mINFO    \u001b[0m | \u001b[36mcontramate.services.opensearch_vector_search_service\u001b[0m:\u001b[36msemantic_search\u001b[0m:\u001b[36m230\u001b[0m - \u001b[1m✅ Semantic search returned 0 results above threshold 0.5\u001b[0m\n",
      "\u001b[32m2025-10-19 20:41:08.732\u001b[0m | \u001b[1mINFO    \u001b[0m | \u001b[36mcontramate.services.opensearch_vector_search_service\u001b[0m:\u001b[36msemantic_search\u001b[0m:\u001b[36m175\u001b[0m - \u001b[1m🔍 Generating embedding for query: 'intellectual property rights...'\u001b[0m\n"
     ]
    },
    {
     "name": "stdout",
     "output_type": "stream",
     "text": [
      "  Run 1: 0.224s (0 results)\n"
     ]
    },
    {
     "name": "stderr",
     "output_type": "stream",
     "text": [
      "2025-10-19 20:41:08 - httpx - INFO - HTTP Request: POST https://api.openai.com/v1/embeddings \"HTTP/1.1 200 OK\"\n",
      "\u001b[32m2025-10-19 20:41:08.943\u001b[0m | \u001b[1mINFO    \u001b[0m | \u001b[36mcontramate.services.opensearch_vector_search_service\u001b[0m:\u001b[36msemantic_search\u001b[0m:\u001b[36m181\u001b[0m - \u001b[1m✅ Generated embedding vector with 1536 dimensions\u001b[0m\n",
      "2025-10-19 20:41:08 - opensearch - INFO - POST http://localhost:9200/contracts-v1/_search [status:200 request:0.012s]\n",
      "\u001b[32m2025-10-19 20:41:08.957\u001b[0m | \u001b[1mINFO    \u001b[0m | \u001b[36mcontramate.services.opensearch_vector_search_service\u001b[0m:\u001b[36msemantic_search\u001b[0m:\u001b[36m230\u001b[0m - \u001b[1m✅ Semantic search returned 0 results above threshold 0.5\u001b[0m\n",
      "\u001b[32m2025-10-19 20:41:08.958\u001b[0m | \u001b[1mINFO    \u001b[0m | \u001b[36mcontramate.services.opensearch_vector_search_service\u001b[0m:\u001b[36msemantic_search\u001b[0m:\u001b[36m175\u001b[0m - \u001b[1m🔍 Generating embedding for query: 'intellectual property rights...'\u001b[0m\n"
     ]
    },
    {
     "name": "stdout",
     "output_type": "stream",
     "text": [
      "  Run 2: 0.226s (0 results)\n"
     ]
    },
    {
     "name": "stderr",
     "output_type": "stream",
     "text": [
      "2025-10-19 20:41:09 - httpx - INFO - HTTP Request: POST https://api.openai.com/v1/embeddings \"HTTP/1.1 200 OK\"\n",
      "\u001b[32m2025-10-19 20:41:09.229\u001b[0m | \u001b[1mINFO    \u001b[0m | \u001b[36mcontramate.services.opensearch_vector_search_service\u001b[0m:\u001b[36msemantic_search\u001b[0m:\u001b[36m181\u001b[0m - \u001b[1m✅ Generated embedding vector with 1536 dimensions\u001b[0m\n",
      "2025-10-19 20:41:09 - opensearch - INFO - POST http://localhost:9200/contracts-v1/_search [status:200 request:0.010s]\n",
      "\u001b[32m2025-10-19 20:41:09.241\u001b[0m | \u001b[1mINFO    \u001b[0m | \u001b[36mcontramate.services.opensearch_vector_search_service\u001b[0m:\u001b[36msemantic_search\u001b[0m:\u001b[36m230\u001b[0m - \u001b[1m✅ Semantic search returned 0 results above threshold 0.5\u001b[0m\n"
     ]
    },
    {
     "name": "stdout",
     "output_type": "stream",
     "text": [
      "  Run 3: 0.284s (0 results)\n",
      "  Average: 0.245s\n",
      "\n",
      "Summary:\n",
      "  No filter: 0.830s\n",
      "  Single filter: 0.259s (-68.8%)\n",
      "  Multiple filters: 0.245s (-70.5%)\n"
     ]
    }
   ],
   "source": [
    "import time\n",
    "\n",
    "query = \"intellectual property rights\"\n",
    "iterations = 3\n",
    "\n",
    "print(\"Performance Comparison\")\n",
    "print(\"=\" * 60)\n",
    "print(f\"Query: '{query}'\")\n",
    "print(f\"Iterations: {iterations}\\n\")\n",
    "\n",
    "# Test 1: No filters\n",
    "print(\"Test 1: No Filters\")\n",
    "times = []\n",
    "for i in range(iterations):\n",
    "    start = time.time()\n",
    "    result = search_service.semantic_search(query=query, k=10)\n",
    "    elapsed = time.time() - start\n",
    "    times.append(elapsed)\n",
    "    \n",
    "    if result.is_ok():\n",
    "        response = result.unwrap()\n",
    "        print(f\"  Run {i+1}: {elapsed:.3f}s ({len(response.results)} results)\")\n",
    "    else:\n",
    "        print(f\"  Run {i+1}: Failed - {result.err()}\")\n",
    "\n",
    "avg_no_filter = sum(times) / len(times)\n",
    "print(f\"  Average: {avg_no_filter:.3f}s\\n\")\n",
    "\n",
    "# Test 2: With project filter\n",
    "print(\"Test 2: With Project Filter\")\n",
    "filter_dict = {\"project_id\": [get_sample_project_id(0)]}\n",
    "times = []\n",
    "for i in range(iterations):\n",
    "    start = time.time()\n",
    "    result = search_service.semantic_search(query=query, filters=filter_dict, k=10)\n",
    "    elapsed = time.time() - start\n",
    "    times.append(elapsed)\n",
    "    \n",
    "    if result.is_ok():\n",
    "        response = result.unwrap()\n",
    "        print(f\"  Run {i+1}: {elapsed:.3f}s ({len(response.results)} results)\")\n",
    "    else:\n",
    "        print(f\"  Run {i+1}: Failed - {result.err()}\")\n",
    "\n",
    "avg_with_filter = sum(times) / len(times)\n",
    "print(f\"  Average: {avg_with_filter:.3f}s\\n\")\n",
    "\n",
    "# Test 3: With multiple filters\n",
    "print(\"Test 3: With Multiple Filters\")\n",
    "filter_dict = {\n",
    "    \"project_id\": [get_sample_project_id(0), get_sample_project_id(1)],\n",
    "    \"doc_source\": \"system\"\n",
    "}\n",
    "times = []\n",
    "for i in range(iterations):\n",
    "    start = time.time()\n",
    "    result = search_service.semantic_search(query=query, filters=filter_dict, k=10)\n",
    "    elapsed = time.time() - start\n",
    "    times.append(elapsed)\n",
    "    \n",
    "    if result.is_ok():\n",
    "        response = result.unwrap()\n",
    "        print(f\"  Run {i+1}: {elapsed:.3f}s ({len(response.results)} results)\")\n",
    "    else:\n",
    "        print(f\"  Run {i+1}: Failed - {result.err()}\")\n",
    "\n",
    "avg_multi_filter = sum(times) / len(times)\n",
    "print(f\"  Average: {avg_multi_filter:.3f}s\\n\")\n",
    "\n",
    "print(\"Summary:\")\n",
    "print(f\"  No filter: {avg_no_filter:.3f}s\")\n",
    "print(f\"  Single filter: {avg_with_filter:.3f}s ({((avg_with_filter/avg_no_filter - 1) * 100):+.1f}%)\")\n",
    "print(f\"  Multiple filters: {avg_multi_filter:.3f}s ({((avg_multi_filter/avg_no_filter - 1) * 100):+.1f}%)\")"
   ]
  },
  {
   "cell_type": "markdown",
   "metadata": {},
   "source": [
    "## 7. Filter Validation Tests\n",
    "\n",
    "Test edge cases and error handling."
   ]
  },
  {
   "cell_type": "code",
   "execution_count": 24,
   "metadata": {},
   "outputs": [
    {
     "name": "stdout",
     "output_type": "stream",
     "text": [
      "Filter Validation Tests\n",
      "============================================================\n",
      "Test 1: Empty Filter\n",
      "  Has filters: False\n",
      "  Filter clauses: [{'term': {'content_source': 'system'}}]\n",
      "\n",
      "Test 2: Invalid Document Source (should fail)\n",
      "  ✓ Validation caught error: ValidationError\n",
      "\n",
      "Test 3: Composite ID Format\n",
      "  Project ID: 00149794-2432-4c18-b491-73d0fafd3efd\n",
      "  Document ID: 577ff0a3-a032-5e23-bde3-0b6179e97949\n",
      "  Composite ID: 00149794-2432-4c18-b491-73d0fafd3efd-577ff0a3-a032-5e23-bde3-0b6179e97949\n",
      "  Format matches: True\n",
      "\n",
      "Test 4: Dict to Filter Conversion\n",
      "  Documents: 1 document(s)\n",
      "  Project IDs: ['008a9fd2-9a4a-4c3f-ad5c-d33eca94af3b']\n",
      "  Doc Source: system\n",
      "  Has filters: True\n",
      "\n",
      "✓ All validation tests completed\n"
     ]
    }
   ],
   "source": [
    "print(\"Filter Validation Tests\")\n",
    "print(\"=\" * 60)\n",
    "\n",
    "# Test 1: Empty filter\n",
    "print(\"Test 1: Empty Filter\")\n",
    "empty_filter = OpenSearchFilter()\n",
    "print(f\"  Has filters: {empty_filter.has_filters()}\")\n",
    "print(f\"  Filter clauses: {empty_filter.to_opensearch_filters()}\")\n",
    "print()\n",
    "\n",
    "# Test 2: Invalid document source\n",
    "print(\"Test 2: Invalid Document Source (should fail)\")\n",
    "try:\n",
    "    invalid_filter = OpenSearchFilter(doc_source=\"invalid_source\")\n",
    "    print(\"  ✗ Validation failed to catch invalid source\")\n",
    "except Exception as e:\n",
    "    print(f\"  ✓ Validation caught error: {type(e).__name__}\")\n",
    "print()\n",
    "\n",
    "# Test 3: Composite ID format\n",
    "print(\"Test 3: Composite ID Format\")\n",
    "project_id = get_sample_project_id(0)\n",
    "doc_id = get_sample_document_id(project_id, 0)\n",
    "doc_filter = DocumentFilter(project_id=project_id, reference_doc_id=doc_id)\n",
    "print(f\"  Project ID: {doc_filter.project_id}\")\n",
    "print(f\"  Document ID: {doc_filter.reference_doc_id}\")\n",
    "print(f\"  Composite ID: {doc_filter.project_reference_doc_id}\")\n",
    "print(f\"  Format matches: {doc_filter.project_reference_doc_id == f'{project_id}-{doc_id}'}\")\n",
    "print()\n",
    "\n",
    "# Test 4: Filter dict conversion\n",
    "print(\"Test 4: Dict to Filter Conversion\")\n",
    "filter_dict = {\n",
    "    \"documents\": [\n",
    "        {\"project_id\": get_sample_project_id(0), \"reference_doc_id\": get_sample_document_id(get_sample_project_id(0), 0)}\n",
    "    ],\n",
    "    \"project_id\": [get_sample_project_id(1)],\n",
    "    \"doc_source\": \"system\"\n",
    "}\n",
    "filter_obj = OpenSearchFilter(**filter_dict)\n",
    "print(f\"  Documents: {len(filter_obj.documents)} document(s)\")\n",
    "print(f\"  Project IDs: {filter_obj.project_id}\")\n",
    "print(f\"  Doc Source: {filter_obj.doc_source}\")\n",
    "print(f\"  Has filters: {filter_obj.has_filters()}\")\n",
    "print()\n",
    "\n",
    "print(\"✓ All validation tests completed\")"
   ]
  }
 ],
 "metadata": {
  "kernelspec": {
   "display_name": "contramate",
   "language": "python",
   "name": "python3"
  },
  "language_info": {
   "codemirror_mode": {
    "name": "ipython",
    "version": 3
   },
   "file_extension": ".py",
   "mimetype": "text/x-python",
   "name": "python",
   "nbconvert_exporter": "python",
   "pygments_lexer": "ipython3",
   "version": "3.12.9"
  }
 },
 "nbformat": 4,
 "nbformat_minor": 4
}
