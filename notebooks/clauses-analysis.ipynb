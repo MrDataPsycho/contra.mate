{
 "cells": [
  {
   "cell_type": "code",
   "execution_count": 1,
   "id": "bb866dd3",
   "metadata": {},
   "outputs": [],
   "source": [
    "import polars as pl"
   ]
  },
  {
   "cell_type": "code",
   "execution_count": 2,
   "id": "20e9b65d",
   "metadata": {},
   "outputs": [],
   "source": [
    "master_clauses_df = pl.read_csv(\"../data/bronze/master_clauses.csv\")"
   ]
  },
  {
   "cell_type": "code",
   "execution_count": 3,
   "id": "c041ae6b",
   "metadata": {},
   "outputs": [
    {
     "data": {
      "text/plain": [
       "['Filename',\n",
       " 'Document Name',\n",
       " 'Document Name-Answer',\n",
       " 'Parties',\n",
       " 'Parties-Answer',\n",
       " 'Agreement Date',\n",
       " 'Agreement Date-Answer',\n",
       " 'Effective Date',\n",
       " 'Effective Date-Answer',\n",
       " 'Expiration Date',\n",
       " 'Expiration Date-Answer',\n",
       " 'Renewal Term',\n",
       " 'Renewal Term-Answer',\n",
       " 'Notice Period To Terminate Renewal',\n",
       " 'Notice Period To Terminate Renewal- Answer',\n",
       " 'Governing Law',\n",
       " 'Governing Law-Answer',\n",
       " 'Most Favored Nation',\n",
       " 'Most Favored Nation-Answer',\n",
       " 'Competitive Restriction Exception',\n",
       " 'Competitive Restriction Exception-Answer',\n",
       " 'Non-Compete',\n",
       " 'Non-Compete-Answer',\n",
       " 'Exclusivity',\n",
       " 'Exclusivity-Answer',\n",
       " 'No-Solicit Of Customers',\n",
       " 'No-Solicit Of Customers-Answer',\n",
       " 'No-Solicit Of Employees',\n",
       " 'No-Solicit Of Employees-Answer',\n",
       " 'Non-Disparagement',\n",
       " 'Non-Disparagement-Answer',\n",
       " 'Termination For Convenience',\n",
       " 'Termination For Convenience-Answer',\n",
       " 'Rofr/Rofo/Rofn',\n",
       " 'Rofr/Rofo/Rofn-Answer',\n",
       " 'Change Of Control',\n",
       " 'Change Of Control-Answer',\n",
       " 'Anti-Assignment',\n",
       " 'Anti-Assignment-Answer',\n",
       " 'Revenue/Profit Sharing',\n",
       " 'Revenue/Profit Sharing-Answer',\n",
       " 'Price Restrictions',\n",
       " 'Price Restrictions-Answer',\n",
       " 'Minimum Commitment',\n",
       " 'Minimum Commitment-Answer',\n",
       " 'Volume Restriction',\n",
       " 'Volume Restriction-Answer',\n",
       " 'Ip Ownership Assignment',\n",
       " 'Ip Ownership Assignment-Answer',\n",
       " 'Joint Ip Ownership',\n",
       " 'Joint Ip Ownership-Answer',\n",
       " 'License Grant',\n",
       " 'License Grant-Answer',\n",
       " 'Non-Transferable License',\n",
       " 'Non-Transferable License-Answer',\n",
       " 'Affiliate License-Licensor',\n",
       " 'Affiliate License-Licensor-Answer',\n",
       " 'Affiliate License-Licensee',\n",
       " 'Affiliate License-Licensee-Answer',\n",
       " 'Unlimited/All-You-Can-Eat-License',\n",
       " 'Unlimited/All-You-Can-Eat-License-Answer',\n",
       " 'Irrevocable Or Perpetual License',\n",
       " 'Irrevocable Or Perpetual License-Answer',\n",
       " 'Source Code Escrow',\n",
       " 'Source Code Escrow-Answer',\n",
       " 'Post-Termination Services',\n",
       " 'Post-Termination Services-Answer',\n",
       " 'Audit Rights',\n",
       " 'Audit Rights-Answer',\n",
       " 'Uncapped Liability',\n",
       " 'Uncapped Liability-Answer',\n",
       " 'Cap On Liability',\n",
       " 'Cap On Liability-Answer',\n",
       " 'Liquidated Damages',\n",
       " 'Liquidated Damages-Answer',\n",
       " 'Warranty Duration',\n",
       " 'Warranty Duration-Answer',\n",
       " 'Insurance',\n",
       " 'Insurance-Answer',\n",
       " 'Covenant Not To Sue',\n",
       " 'Covenant Not To Sue-Answer',\n",
       " 'Third Party Beneficiary',\n",
       " 'Third Party Beneficiary-Answer']"
      ]
     },
     "execution_count": 3,
     "metadata": {},
     "output_type": "execute_result"
    }
   ],
   "source": [
    "master_clauses_df.columns"
   ]
  }
 ],
 "metadata": {
  "kernelspec": {
   "display_name": "contramate",
   "language": "python",
   "name": "python3"
  },
  "language_info": {
   "codemirror_mode": {
    "name": "ipython",
    "version": 3
   },
   "file_extension": ".py",
   "mimetype": "text/x-python",
   "name": "python",
   "nbconvert_exporter": "python",
   "pygments_lexer": "ipython3",
   "version": "3.12.11"
  }
 },
 "nbformat": 4,
 "nbformat_minor": 5
}
