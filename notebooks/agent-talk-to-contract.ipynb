{
 "cells": [
  {
   "cell_type": "markdown",
   "metadata": {},
   "source": [
    "# Talk To Contract Agent - Testing and Examples\n",
    "\n",
    "This notebook demonstrates how to use the Talk To Contract agent with various filter configurations."
   ]
  },
  {
   "cell_type": "markdown",
   "metadata": {},
   "source": [
    "## Setup and Imports"
   ]
  },
  {
   "cell_type": "code",
   "execution_count": 1,
   "metadata": {},
   "outputs": [
    {
     "name": "stderr",
     "output_type": "stream",
     "text": [
      "\u001b[32m2025-10-23 14:31:37.158\u001b[0m | \u001b[1mINFO    \u001b[0m | \u001b[36mcontramate.utils.settings.base\u001b[0m:\u001b[36mfind_env_file_if_exists\u001b[0m:\u001b[36m25\u001b[0m - \u001b[1mLoading settings from System Environment\u001b[0m\n"
     ]
    }
   ],
   "source": [
    "from contramate.core.agents import (\n",
    "    TalkToContractAgentFactory,\n",
    "    TalkToContractDependencies,\n",
    ")\n",
    "from contramate.services.opensearch_vector_search_service import (\n",
    "    OpenSearchVectorSearchServiceFactory,\n",
    ")\n",
    "from pathlib import Path\n",
    "from IPython.display import Markdown, display"
   ]
  },
  {
   "cell_type": "code",
   "execution_count": 2,
   "metadata": {},
   "outputs": [
    {
     "name": "stdout",
     "output_type": "stream",
     "text": [
      "Loading environment variables from: /Users/datapsycho/PythonProjects/AgentEngBootCamp/contramate/.envs/local.env\n"
     ]
    }
   ],
   "source": [
    "ENV_FILE = Path().absolute().parent / \".envs\" / \"local.env\"\n",
    "print(f\"Loading environment variables from: {ENV_FILE}\")"
   ]
  },
  {
   "cell_type": "markdown",
   "metadata": {},
   "source": [
    "## Initialize Agent and Search Service"
   ]
  },
  {
   "cell_type": "code",
   "execution_count": 3,
   "metadata": {},
   "outputs": [
    {
     "name": "stderr",
     "output_type": "stream",
     "text": [
      "\u001b[32m2025-10-23 14:31:37.671\u001b[0m | \u001b[1mINFO    \u001b[0m | \u001b[36mcontramate.llm.factory\u001b[0m:\u001b[36mget_default_client\u001b[0m:\u001b[36m81\u001b[0m - \u001b[1mCreating vanilla async client for provider: openai\u001b[0m\n",
      "\u001b[32m2025-10-23 14:31:37.748\u001b[0m | \u001b[1mINFO    \u001b[0m | \u001b[36mcontramate.integrations.aws.opensearch\u001b[0m:\u001b[36mcreate_opensearch_client\u001b[0m:\u001b[36m52\u001b[0m - \u001b[1mCreated OpenSearch client for localhost:9200\u001b[0m\n"
     ]
    },
    {
     "name": "stdout",
     "output_type": "stream",
     "text": [
      "✅ Agent and search service initialized\n"
     ]
    }
   ],
   "source": [
    "# Create agent and search service\n",
    "agent = TalkToContractAgentFactory.from_env_file(env_path=ENV_FILE)\n",
    "search_service = OpenSearchVectorSearchServiceFactory.from_env_file(env_path=ENV_FILE)\n",
    "print(\"✅ Agent and search service initialized\")"
   ]
  },
  {
   "cell_type": "code",
   "execution_count": 4,
   "metadata": {},
   "outputs": [],
   "source": [
    "# search_response = search_service.hybrid_search(\"what is the payment terms?\")\n",
    "# result = search_response.unwrap()"
   ]
  },
  {
   "cell_type": "code",
   "execution_count": 5,
   "metadata": {},
   "outputs": [],
   "source": [
    "# display(Markdown(result.to_llm_context()))"
   ]
  },
  {
   "cell_type": "markdown",
   "metadata": {},
   "source": [
    "## Example 1: Query Without Filters\n",
    "\n",
    "Search across all documents (with default `doc_source=system` filter)"
   ]
  },
  {
   "cell_type": "code",
   "execution_count": 14,
   "metadata": {},
   "outputs": [
    {
     "name": "stderr",
     "output_type": "stream",
     "text": [
      "2025-10-23 13:38:45 - httpx - INFO - HTTP Request: POST https://api.openai.com/v1/chat/completions \"HTTP/1.1 200 OK\"\n",
      "\u001b[32m2025-10-23 13:38:45.232\u001b[0m | \u001b[1mINFO    \u001b[0m | \u001b[36mcontramate.core.agents.talk_to_contract\u001b[0m:\u001b[36mhybrid_search\u001b[0m:\u001b[36m491\u001b[0m - \u001b[1m🔍 Tool: hybrid_search called with query='common payment terms in contracts...'\u001b[0m\n",
      "\u001b[32m2025-10-23 13:38:45.232\u001b[0m | \u001b[1mINFO    \u001b[0m | \u001b[36mcontramate.services.opensearch_vector_search_service\u001b[0m:\u001b[36mhybrid_search\u001b[0m:\u001b[36m449\u001b[0m - \u001b[1m🔍 Performing hybrid search for: 'common payment terms in contracts...'\u001b[0m\n",
      "2025-10-23 13:38:45 - httpx - INFO - HTTP Request: POST https://api.openai.com/v1/embeddings \"HTTP/1.1 200 OK\"\n",
      "\u001b[32m2025-10-23 13:38:45.461\u001b[0m | \u001b[1mINFO    \u001b[0m | \u001b[36mcontramate.services.opensearch_vector_search_service\u001b[0m:\u001b[36mhybrid_search\u001b[0m:\u001b[36m455\u001b[0m - \u001b[1m✅ Generated embedding vector with 1536 dimensions\u001b[0m\n",
      "2025-10-23 13:38:45 - opensearch - INFO - POST http://localhost:9200/contracts-v1/_search [status:200 request:0.117s]\n",
      "\u001b[32m2025-10-23 13:38:45.581\u001b[0m | \u001b[1mINFO    \u001b[0m | \u001b[36mcontramate.services.opensearch_vector_search_service\u001b[0m:\u001b[36mhybrid_search\u001b[0m:\u001b[36m547\u001b[0m - \u001b[1m✅ Hybrid search returned 10 results\u001b[0m\n",
      "2025-10-23 13:38:59 - httpx - INFO - HTTP Request: POST https://api.openai.com/v1/chat/completions \"HTTP/1.1 200 OK\"\n"
     ]
    },
    {
     "name": "stdout",
     "output_type": "stream",
     "text": [
      "\n",
      "================================================================================\n",
      "Query: What are common payment terms in contracts?\n",
      "================================================================================\n",
      "\n",
      "Answer:\n",
      "Common payment terms in contracts typically include the following:\n",
      "\n",
      "- Payment is often due within a specified period after invoice receipt, commonly net 30 days. For example, in manufacturing outsourcing agreements, payment by the client is due thirty (30) days from the date of invoice issuance [doc1].\n",
      "\n",
      "- In transportation service agreements, payment is generally due within 15 days of the invoice date, with late payments accruing interest at a specified rate (e.g., 2% per annum) [doc2].\n",
      "\n",
      "- Consulting agreements may specify payment in equal quarterly installments, such as an annual consulting fee paid in four equal quarterly payments on specified dates [doc3][doc4].\n",
      "\n",
      "- Supply agreements often require payment in U.S. dollars within 30 days after the date of shipment, with provisions for advance payment or modification of payment terms in case of changes in circumstances [doc6].\n",
      "\n",
      "- Reseller agreements commonly require invoices to be paid within 30 calendar days from the invoice date or when the amount is due, with late charges applied at a rate such as 1% per month [doc7].\n",
      "\n",
      "- Hosting agreements may specify payment due by month-end for invoices received by a certain date, otherwise payment is due 30 days from receipt of invoice, including late payment fees [doc5].\n",
      "\n",
      "- Transportation contracts may require payment promptly upon performance, with amounts more than 30 days past due bearing interest at a prime rate plus a percentage, and payments made at the carrier's office [doc10].\n",
      "\n",
      "These terms often include provisions for late payment interest or fees, advance payments in certain circumstances, and payment in specified currencies. The exact terms vary by contract type and industry but net 30 days is a common standard.\n",
      "\n",
      "References:\n",
      "- Manufacturing Outsourcing Agreement: Payment due 30 days from invoice [doc1].\n",
      "- Transportation Services Agreement: Payment due within 15 days, 2% interest on late payments [doc2].\n",
      "- Consulting Agreement: Quarterly installment payments [doc4].\n",
      "- Supply Agreement: Payment due 30 days after shipment, with advance payment options [doc6].\n",
      "- Reseller Agreement: Payment due within 30 calendar days, 1% monthly late charge [doc7].\n",
      "- Hosting Agreement: Payment due 30 days from invoice receipt [doc5].\n",
      "- Transportation Contract: Payment due promptly, interest on overdue amounts after 30 days [doc10].\n",
      "\n",
      "================================================================================\n",
      "Citations:\n",
      "================================================================================\n",
      "  doc1: NICELTD_06_26_2003-EX-4.5-OUTSOURCING AGREEMENT.PDF.md-7\n",
      "  doc2: MPLXLP_06_17_2015-EX-10.1-TRANSPORTATION SERVICES AGREEMENT.PDF.md-1\n",
      "  doc3: ASHWORTHINC_01_29_1999-EX-10.(D)-PROMOTION AGREEMENT AND NANTZ COMMUNICATIONS, INC..PDF.md-1\n",
      "  doc4: SPHERE3DCORP_06_24_2020-EX-10.12-CONSULTING AGREEMENT.PDF.md-1\n",
      "  doc5: QuantumGroupIncFl_20090120_8-K_EX-99.2_3672910_EX-99.2_Hosting Agreement.pdf.md-1\n",
      "  doc6: WestPharmaceuticalServicesInc_20200116_8-K_EX-10.1_11947529_EX-10.1_Supply Agreement.pdf.md-2\n",
      "  doc7: DIVERSINETCORP_03_01_2012-EX-4-RESELLER AGREEMENT.PDF.md-3\n",
      "  doc10: ENTERPRISEPRODUCTSPARTNERSLP_07_08_1998-EX-10.3-TRANSPORTATION CONTRACT.PDF.md-1\n"
     ]
    }
   ],
   "source": [
    "# Create dependencies without filters\n",
    "deps = TalkToContractDependencies(search_service=search_service)\n",
    "\n",
    "# Run query\n",
    "user_query = \"What are common payment terms in contracts?\"\n",
    "result = await agent.run(user_query, deps=deps)\n",
    "\n",
    "# Display results\n",
    "print(f\"\\n{'='*80}\")\n",
    "print(f\"Query: {user_query}\")\n",
    "print(f\"{'='*80}\")\n",
    "print(f\"\\nAnswer:\\n{result.output.answer}\")\n",
    "print(f\"\\n{'='*80}\")\n",
    "print(\"Citations:\")\n",
    "print(f\"{'='*80}\")\n",
    "for key, value in result.output.citations.items():\n",
    "    print(f\"  {key}: {value}\")"
   ]
  },
  {
   "cell_type": "markdown",
   "metadata": {},
   "source": [
    "## Example 2: Single Document Filter\n",
    "\n",
    "Limit search to a specific document"
   ]
  },
  {
   "cell_type": "code",
   "execution_count": 15,
   "metadata": {},
   "outputs": [
    {
     "name": "stderr",
     "output_type": "stream",
     "text": [
      "2025-10-23 13:39:17 - httpx - INFO - HTTP Request: POST https://api.openai.com/v1/chat/completions \"HTTP/1.1 200 OK\"\n",
      "\u001b[32m2025-10-23 13:39:17.893\u001b[0m | \u001b[1mINFO    \u001b[0m | \u001b[36mcontramate.core.agents.talk_to_contract\u001b[0m:\u001b[36mhybrid_search\u001b[0m:\u001b[36m491\u001b[0m - \u001b[1m🔍 Tool: hybrid_search called with query='payment terms...'\u001b[0m\n",
      "\u001b[32m2025-10-23 13:39:17.894\u001b[0m | \u001b[1mINFO    \u001b[0m | \u001b[36mcontramate.services.opensearch_vector_search_service\u001b[0m:\u001b[36mhybrid_search\u001b[0m:\u001b[36m449\u001b[0m - \u001b[1m🔍 Performing hybrid search for: 'payment terms...'\u001b[0m\n",
      "2025-10-23 13:39:18 - httpx - INFO - HTTP Request: POST https://api.openai.com/v1/embeddings \"HTTP/1.1 200 OK\"\n",
      "\u001b[32m2025-10-23 13:39:18.204\u001b[0m | \u001b[1mINFO    \u001b[0m | \u001b[36mcontramate.services.opensearch_vector_search_service\u001b[0m:\u001b[36mhybrid_search\u001b[0m:\u001b[36m455\u001b[0m - \u001b[1m✅ Generated embedding vector with 1536 dimensions\u001b[0m\n",
      "2025-10-23 13:39:18 - opensearch - INFO - POST http://localhost:9200/contracts-v1/_search [status:200 request:0.041s]\n",
      "\u001b[32m2025-10-23 13:39:18.248\u001b[0m | \u001b[1mINFO    \u001b[0m | \u001b[36mcontramate.services.opensearch_vector_search_service\u001b[0m:\u001b[36mhybrid_search\u001b[0m:\u001b[36m547\u001b[0m - \u001b[1m✅ Hybrid search returned 6 results\u001b[0m\n",
      "2025-10-23 13:39:23 - httpx - INFO - HTTP Request: POST https://api.openai.com/v1/chat/completions \"HTTP/1.1 200 OK\"\n"
     ]
    },
    {
     "name": "stdout",
     "output_type": "stream",
     "text": [
      "\n",
      "================================================================================\n",
      "Query: What are the payment terms in this contract?\n",
      "Filter: Single document\n",
      "================================================================================\n",
      "\n",
      "Answer:\n",
      "The payment terms in this contract are structured as milestone payments subject to HealthGate performing its obligations. The payments are scheduled as follows:\n",
      "- $100,000 on 30 January 1998\n",
      "- $150,000 on 6 February 1998\n",
      "- $150,000 on acceptance of Specification or 27 February 1998, whichever is later\n",
      "- $150,000 on acceptance of System launch\n",
      "- $150,000 on system completion date\n",
      "- $175,000 on 1 January 1999\n",
      "- $175,000 on 1 April 1999\n",
      "- $175,000 on 1 July 1999\n",
      "- $175,000 on 1 September 1999\n",
      "\n",
      "Invoices are payable within 60 days of receipt, except for payments due under the milestone schedule, which are payable on the due date or on acceptance of the work, whichever is later.\n",
      "\n",
      "Additionally, there are Use Fees based on content downloads, billed quarterly with payment terms of 60 days.\n",
      "\n",
      "Interest on late payments is charged at 2% above the base rate of Barclays Bank plc in England.\n",
      "\n",
      "These terms are detailed in Clause 19 (Cost and Payment, Change Control Formula) of the contract [doc1].\n",
      "\n",
      "================================================================================\n",
      "Citations:\n",
      "================================================================================\n",
      "  doc1: HEALTHGATEDATACORP_11_24_1999-EX-10.1-HOSTING AND MANAGEMENT AGREEMENT (1).pdf.md-2\n"
     ]
    }
   ],
   "source": [
    "# Define single document filter\n",
    "filter_config = {\n",
    "    \"documents\": [\n",
    "        {\n",
    "            \"project_id\": \"00149794-2432-4c18-b491-73d0fafd3efd\",\n",
    "            \"reference_doc_id\": \"577ff0a3-a032-5e23-bde3-0b6179e97949\",\n",
    "        }\n",
    "    ]\n",
    "}\n",
    "\n",
    "# Create dependencies with filter\n",
    "deps_single = TalkToContractDependencies(\n",
    "    search_service=search_service,\n",
    "    filters=filter_config\n",
    ")\n",
    "\n",
    "# Run query\n",
    "user_query = \"What are the payment terms in this contract?\"\n",
    "result = await agent.run(user_query, deps=deps_single)\n",
    "\n",
    "# Display results\n",
    "print(f\"\\n{'='*80}\")\n",
    "print(f\"Query: {user_query}\")\n",
    "print(f\"Filter: Single document\")\n",
    "print(f\"{'='*80}\")\n",
    "print(f\"\\nAnswer:\\n{result.output.answer}\")\n",
    "print(f\"\\n{'='*80}\")\n",
    "print(\"Citations:\")\n",
    "print(f\"{'='*80}\")\n",
    "for key, value in result.output.citations.items():\n",
    "    print(f\"  {key}: {value}\")"
   ]
  },
  {
   "cell_type": "markdown",
   "metadata": {},
   "source": [
    "## Example 3: Multiple Documents Filter\n",
    "\n",
    "Compare information across specific documents"
   ]
  },
  {
   "cell_type": "code",
   "execution_count": 4,
   "metadata": {},
   "outputs": [
    {
     "name": "stderr",
     "output_type": "stream",
     "text": [
      "2025-10-23 14:31:46 - httpx - INFO - HTTP Request: POST https://api.openai.com/v1/chat/completions \"HTTP/1.1 200 OK\"\n",
      "\u001b[32m2025-10-23 14:31:46.277\u001b[0m | \u001b[1mINFO    \u001b[0m | \u001b[36mcontramate.core.agents.talk_to_contract\u001b[0m:\u001b[36mcompare_filtered_documents\u001b[0m:\u001b[36m556\u001b[0m - \u001b[1m🔍 Tool: compare_filtered_documents called with query='liability limitations...'\u001b[0m\n",
      "\u001b[32m2025-10-23 14:31:46.278\u001b[0m | \u001b[1mINFO    \u001b[0m | \u001b[36mcontramate.core.agents.talk_to_contract\u001b[0m:\u001b[36mcompare_filtered_documents\u001b[0m:\u001b[36m573\u001b[0m - \u001b[1m📋 Comparing across 3 filtered documents using optimized search\u001b[0m\n",
      "\u001b[32m2025-10-23 14:31:46.279\u001b[0m | \u001b[1mINFO    \u001b[0m | \u001b[36mcontramate.services.opensearch_vector_search_service\u001b[0m:\u001b[36mhybrid_search_multi_document\u001b[0m:\u001b[36m905\u001b[0m - \u001b[1m🔍 Generating embedding once for multi-document search: 'liability limitations...'\u001b[0m\n",
      "2025-10-23 14:31:46 - httpx - INFO - HTTP Request: POST https://api.openai.com/v1/embeddings \"HTTP/1.1 200 OK\"\n",
      "\u001b[32m2025-10-23 14:31:46.686\u001b[0m | \u001b[1mINFO    \u001b[0m | \u001b[36mcontramate.services.opensearch_vector_search_service\u001b[0m:\u001b[36mhybrid_search_multi_document\u001b[0m:\u001b[36m912\u001b[0m - \u001b[1m✅ Generated embedding vector with 1536 dimensions\u001b[0m\n",
      "\u001b[32m2025-10-23 14:31:46.687\u001b[0m | \u001b[1mINFO    \u001b[0m | \u001b[36mcontramate.services.opensearch_vector_search_service\u001b[0m:\u001b[36mhybrid_search_multi_document\u001b[0m:\u001b[36m913\u001b[0m - \u001b[1m🔍 Searching across 3 documents in parallel...\u001b[0m\n",
      "2025-10-23 14:31:46 - opensearch - INFO - POST http://localhost:9200/contracts-v1/_search [status:200 request:0.052s]\n",
      "\u001b[32m2025-10-23 14:31:46.750\u001b[0m | \u001b[1mINFO    \u001b[0m | \u001b[36mcontramate.services.opensearch_vector_search_service\u001b[0m:\u001b[36msearch_single_document\u001b[0m:\u001b[36m1000\u001b[0m - \u001b[1m  ✓ Document 3: 0 results (project: 0096b72f..., doc: 16b6078b..., time: 56ms)\u001b[0m\n",
      "2025-10-23 14:31:46 - opensearch - INFO - POST http://localhost:9200/contracts-v1/_search [status:200 request:0.078s]\n",
      "\u001b[32m2025-10-23 14:31:46.773\u001b[0m | \u001b[1mINFO    \u001b[0m | \u001b[36mcontramate.services.opensearch_vector_search_service\u001b[0m:\u001b[36msearch_single_document\u001b[0m:\u001b[36m1000\u001b[0m - \u001b[1m  ✓ Document 2: 3 results (project: 008a9fd2..., doc: aa1a0c65..., time: 85ms)\u001b[0m\n",
      "2025-10-23 14:31:46 - opensearch - INFO - POST http://localhost:9200/contracts-v1/_search [status:200 request:0.088s]\n",
      "\u001b[32m2025-10-23 14:31:46.780\u001b[0m | \u001b[1mINFO    \u001b[0m | \u001b[36mcontramate.services.opensearch_vector_search_service\u001b[0m:\u001b[36msearch_single_document\u001b[0m:\u001b[36m1000\u001b[0m - \u001b[1m  ✓ Document 1: 5 results (project: 00149794..., doc: 577ff0a3..., time: 91ms)\u001b[0m\n",
      "\u001b[32m2025-10-23 14:31:46.781\u001b[0m | \u001b[1mINFO    \u001b[0m | \u001b[36mcontramate.services.opensearch_vector_search_service\u001b[0m:\u001b[36mhybrid_search_multi_document\u001b[0m:\u001b[36m1028\u001b[0m - \u001b[1m✅ Multi-document search completed: 3 documents searched in 502ms (avg 167ms per doc)\u001b[0m\n",
      "\u001b[32m2025-10-23 14:31:46.781\u001b[0m | \u001b[1mINFO    \u001b[0m | \u001b[36mcontramate.core.agents.talk_to_contract\u001b[0m:\u001b[36mcompare_filtered_documents\u001b[0m:\u001b[36m599\u001b[0m - \u001b[1m  ✓ Document 1 (project: 00149794..., ref: 577ff0a3...): 5 results\u001b[0m\n",
      "\u001b[32m2025-10-23 14:31:46.781\u001b[0m | \u001b[1mINFO    \u001b[0m | \u001b[36mcontramate.core.agents.talk_to_contract\u001b[0m:\u001b[36mcompare_filtered_documents\u001b[0m:\u001b[36m599\u001b[0m - \u001b[1m  ✓ Document 2 (project: 008a9fd2..., ref: aa1a0c65...): 3 results\u001b[0m\n",
      "\u001b[32m2025-10-23 14:31:46.781\u001b[0m | \u001b[33m\u001b[1mWARNING \u001b[0m | \u001b[36mcontramate.core.agents.talk_to_contract\u001b[0m:\u001b[36mcompare_filtered_documents\u001b[0m:\u001b[36m601\u001b[0m - \u001b[33m\u001b[1m  ✗ Document 3 (project: 0096b72f..., ref: 16b6078b...): 0 results - document may not exist or has no matching content\u001b[0m\n",
      "\u001b[32m2025-10-23 14:31:46.782\u001b[0m | \u001b[1mINFO    \u001b[0m | \u001b[36mcontramate.core.agents.talk_to_contract\u001b[0m:\u001b[36mcompare_filtered_documents\u001b[0m:\u001b[36m633\u001b[0m - \u001b[1m✅ Combined results from 2/3 documents\u001b[0m\n",
      "2025-10-23 14:31:56 - httpx - INFO - HTTP Request: POST https://api.openai.com/v1/chat/completions \"HTTP/1.1 200 OK\"\n"
     ]
    },
    {
     "name": "stdout",
     "output_type": "stream",
     "text": [
      "\n",
      "================================================================================\n",
      "Query: Compare the liability limitations across these contracts\n",
      "Filter: 3 documents\n",
      "================================================================================\n",
      "\n",
      "Answer:\n",
      "The liability limitations in the Hosting and Management Agreement with HealthGate Data Corp. specify that both parties agree to indemnify each other against claims related to death, bodily injury, or property damage caused by their tortious acts or omissions. They also indemnify each other against claims of intellectual property infringement related to the system. Except for personal injury or death caused by negligence, the liability of either party for any claims arising from performance or nonperformance under the agreement is limited to the amount of payments made under the agreement [doc1].\n",
      "\n",
      "In the Manufacturing, Design and Marketing Agreement between Zounds Hearing, Inc. and InnerScope Hearing Technologies, Inc., neither party shall be liable to the other for any \"cover\" damages, including internal cover damages, or any incidental, consequential, special, or punitive damages arising out of the agreement or the sale of products. This limitation applies regardless of the basis of liability, including contract, tort, or strict liability, even if the party has been warned of the possibility of such damages. Additionally, neither party is liable for damages arising from delays in manufacture, shipment, or delivery if such delays are due to force majeure events. The agreement also includes indemnity provisions where the Manufacturer indemnifies the Subcontractor against claims related to intellectual property infringement, product safety compliance failures, or damages caused by negligence or defects in Manufacturer specifications [doc2].\n",
      "\n",
      "================================================================================\n",
      "Citations:\n",
      "================================================================================\n",
      "  doc1: HEALTHGATEDATACORP_11_24_1999-EX-10.1-HOSTING AND MANAGEMENT AGREEMENT (1).pdf.md-3\n",
      "  doc2: Zounds Hearing, Inc. - MANUFACTURING DESIGN MARKETING AGREEMENT.PDF.md-2\n"
     ]
    }
   ],
   "source": [
    "# Define multiple documents filter\n",
    "filter_config_multi = {\n",
    "    \"documents\": [\n",
    "        {\n",
    "            \"project_id\": \"00149794-2432-4c18-b491-73d0fafd3efd\",\n",
    "            \"reference_doc_id\": \"577ff0a3-a032-5e23-bde3-0b6179e97949\",\n",
    "        },\n",
    "        {\n",
    "            \"project_id\": \"008a9fd2-9a4a-4c3f-ad5c-d33eca94af3b\",\n",
    "            \"reference_doc_id\": \"aa1a0c65-8016-5d11-bbde-22055140660b\",\n",
    "        },\n",
    "        {\n",
    "            \"project_id\": \"0096b72f-1c0d-4724-924f-011f87d3591a\",\n",
    "            \"reference_doc_id\": \"16b6078b-248c-5ed9-83ef-20ee0af49396\",\n",
    "        },\n",
    "    ]\n",
    "}\n",
    "\n",
    "# Create dependencies with filter\n",
    "deps_multi = TalkToContractDependencies(\n",
    "    search_service=search_service,\n",
    "    filters=filter_config_multi\n",
    ")\n",
    "\n",
    "# Run query\n",
    "user_query = \"Compare the liability limitations across these contracts\"\n",
    "result = await agent.run(user_query, deps=deps_multi)\n",
    "\n",
    "# Display results\n",
    "print(f\"\\n{'='*80}\")\n",
    "print(f\"Query: {user_query}\")\n",
    "print(f\"Filter: {len(filter_config_multi['documents'])} documents\")\n",
    "print(f\"{'='*80}\")\n",
    "print(f\"\\nAnswer:\\n{result.output.answer}\")\n",
    "print(f\"\\n{'='*80}\")\n",
    "print(\"Citations:\")\n",
    "print(f\"{'='*80}\")\n",
    "for key, value in result.output.citations.items():\n",
    "    print(f\"  {key}: {value}\")"
   ]
  },
  {
   "cell_type": "markdown",
   "metadata": {},
   "source": [
    "# Document Check Missing"
   ]
  },
  {
   "cell_type": "code",
   "execution_count": 10,
   "metadata": {},
   "outputs": [
    {
     "name": "stderr",
     "output_type": "stream",
     "text": [
      "\u001b[32m2025-10-23 14:00:42.807\u001b[0m | \u001b[1mINFO    \u001b[0m | \u001b[36mcontramate.services.opensearch_vector_search_service\u001b[0m:\u001b[36mhybrid_search\u001b[0m:\u001b[36m449\u001b[0m - \u001b[1m🔍 Performing hybrid search for: 'liability limitations indemnification...'\u001b[0m\n",
      "2025-10-23 14:00:43 - httpx - INFO - HTTP Request: POST https://api.openai.com/v1/embeddings \"HTTP/1.1 200 OK\"\n",
      "\u001b[32m2025-10-23 14:00:43.157\u001b[0m | \u001b[1mINFO    \u001b[0m | \u001b[36mcontramate.services.opensearch_vector_search_service\u001b[0m:\u001b[36mhybrid_search\u001b[0m:\u001b[36m455\u001b[0m - \u001b[1m✅ Generated embedding vector with 1536 dimensions\u001b[0m\n",
      "2025-10-23 14:00:43 - opensearch - INFO - POST http://localhost:9200/contracts-v1/_search [status:200 request:0.061s]\n",
      "\u001b[32m2025-10-23 14:00:43.221\u001b[0m | \u001b[1mINFO    \u001b[0m | \u001b[36mcontramate.services.opensearch_vector_search_service\u001b[0m:\u001b[36mhybrid_search\u001b[0m:\u001b[36m547\u001b[0m - \u001b[1m✅ Hybrid search returned 0 results\u001b[0m\n",
      "2025-10-23 14:00:43 - opensearch - INFO - POST http://localhost:9200/contracts-v1/_search [status:200 request:0.014s]\n",
      "\u001b[32m2025-10-23 14:00:43.237\u001b[0m | \u001b[1mINFO    \u001b[0m | \u001b[36mcontramate.services.opensearch_vector_search_service\u001b[0m:\u001b[36msearch_by_document\u001b[0m:\u001b[36m821\u001b[0m - \u001b[1m✅ Retrieved 1 chunks from document 16b6078b-248c-5ed9-83ef-20ee0af49396 in project 0096b72f-1c0d-4724-924f-011f87d3591a\u001b[0m\n"
     ]
    },
    {
     "name": "stdout",
     "output_type": "stream",
     "text": [
      "Liability search results: 0\n",
      "No results found for liability-related content\n",
      "\n",
      "Let's see what IS in this document:\n",
      "\n",
      "Full document content (474 tokens):\n",
      "**AMENDMENT NO. 3 TO STREMICK’S HERITAGE FOODS, LLC and PREMIER NUTRITION CORPORATION MANUFACTURING AGREEMENT**\n",
      "\n",
      "This Amendment No. 3 (the “Third Amendment”), entered into by and between Stremicks Heritage Foods, LLC (“Heritage”) Premier Nutrition\n",
      "Corporation (“Premier”) is effective as of July 3, 2019 (“Third Amendment Effective Date”) and amends that certain Manufacturing Agreement between\n",
      "Heritage and Premier dated July 1, 2017 as amended (“Agreement”). Heritage and Premier are each referred to herein as a “Party” and collectively as the\n",
      "“Parties.”\n",
      "\n",
      "**WHEREAS,** Heritage and Premier entered into the Agreement;\n",
      "\n",
      "**WHEREAS,** the Parties wish to amend the Agreement in accordance with the terms and conditions set forth herein.\n",
      "\n",
      "**NOW, THEREFORE,** in consideration of the promises and of the mutual covenants, representations and warranties contained in the Agreement\n",
      "and set forth herein, the Parties hereby agree that the following changes shall be made to the Agreement:\n",
      "\n",
      "1. The Parties hereby agree to remove Schedule C-1 in its entirety and replace it with the following:\n",
      "\n",
      "Schedule C-1. The following is attached to an incorporated into the Agreement as Schedule C-1:\n",
      "\n",
      "Schedule C-1([***])\n",
      "\n",
      "[***]\n",
      "\n",
      "2. Except as otherwise specified above in this Amendment, all other terms, conditions and covenants of the Agreement shall remain in full force and\n",
      "effect.\n",
      "\n",
      "Context: 2. Except as otherwise specified above in this Amendment, all other terms, conditions and covenants of the Agreement shall remain in full force and\n",
      "\n",
      "**IN WITNESS WHEREOF,** the Parties have caused this Amendment to be signed by their respective duly authorized representatives as of the\n",
      "Amendment Effective Date.\n",
      "\n",
      "Context: 2. Except as otherwise specified above in this Amendment, all other terms, conditions and covenants of the Agreement shall remain in full force and\n",
      "\n",
      "**Premier Nutrition Corporation** **Stremick’s Heritage Foods, LLC.**\n",
      "\n",
      "By: /s/ Darcy Davenport By: /s/ Sam Stremick\n",
      "Name: Darcy Davenport Name: Sam Stremick\n",
      "Title: President Title: President\n",
      "\n",
      "Source: BELLRING BRANDS, INC., S-1, 9/20/2019\n"
     ]
    }
   ],
   "source": [
    "doc3_liability = search_service.hybrid_search(\n",
    "    query=\"liability limitations indemnification\",\n",
    "    filters={\n",
    "        \"documents\": [{\n",
    "            \"project_id\": \"0096b72f-1c0d-4724-924f-011f87d3591a\",\n",
    "            \"reference_doc_id\": \"16b6078b-248c-5ed9-83ef-20ee0af49396\"\n",
    "        }]\n",
    "    },\n",
    "    size=5\n",
    ")\n",
    "\n",
    "if doc3_liability.is_ok():\n",
    "    response = doc3_liability.unwrap()\n",
    "    print(f\"Liability search results: {len(response.results)}\")\n",
    "    if response.results:\n",
    "        for i, result in enumerate(response.results, 1):\n",
    "            print(f\"\\n--- Result {i} (score: {result.score}) ---\")\n",
    "            print(result.content[:500])\n",
    "    else:\n",
    "        print(\"No results found for liability-related content\")\n",
    "        print(\"\\nLet's see what IS in this document:\")\n",
    "        # Get the full chunk\n",
    "        full_doc = search_service.search_by_document(\n",
    "            project_id=\"0096b72f-1c0d-4724-924f-011f87d3591a\",\n",
    "            reference_doc_id=\"16b6078b-248c-5ed9-83ef-20ee0af49396\"\n",
    "        )\n",
    "        if full_doc.is_ok():\n",
    "            print(f\"\\nFull document content ({full_doc.unwrap().results[0].token_count} tokens):\")\n",
    "            print(full_doc.unwrap().results[0].content)\n",
    "else:\n",
    "    print(f\"Error: {doc3_liability.unwrap_err()}\")"
   ]
  },
  {
   "cell_type": "markdown",
   "metadata": {},
   "source": [
    "## Example 4: Project Filter\n",
    "\n",
    "Search within a specific project"
   ]
  },
  {
   "cell_type": "code",
   "execution_count": null,
   "metadata": {},
   "outputs": [],
   "source": [
    "# Define project filter\n",
    "filter_config_project = {\n",
    "    \"project_id\": [\"00149794-2432-4c18-b491-73d0fafd3efd\"]\n",
    "}\n",
    "\n",
    "# Create dependencies with filter\n",
    "deps_project = TalkToContractDependencies(\n",
    "    search_service=search_service,\n",
    "    filters=filter_config_project\n",
    ")\n",
    "\n",
    "# Run query\n",
    "user_query = \"What are the key obligations in project contracts?\"\n",
    "result = await agent.run(user_query, deps=deps_project)\n",
    "\n",
    "# Display results\n",
    "print(f\"\\n{'='*80}\")\n",
    "print(f\"Query: {user_query}\")\n",
    "print(f\"Filter: Project scope\")\n",
    "print(f\"{'='*80}\")\n",
    "print(f\"\\nAnswer:\\n{result.output.answer}\")\n",
    "print(f\"\\n{'='*80}\")\n",
    "print(\"Citations:\")\n",
    "print(f\"{'='*80}\")\n",
    "for key, value in result.output.citations.items():\n",
    "    print(f\"  {key}: {value}\")"
   ]
  },
  {
   "cell_type": "markdown",
   "metadata": {},
   "source": [
    "## Example 5: Combined Filters\n",
    "\n",
    "Use multiple filter types together"
   ]
  },
  {
   "cell_type": "code",
   "execution_count": null,
   "metadata": {},
   "outputs": [],
   "source": [
    "# Define combined filters\n",
    "filter_config_combined = {\n",
    "    \"project_id\": [\"00149794-2432-4c18-b491-73d0fafd3efd\"],\n",
    "    \"doc_source\": \"system\",\n",
    "    \"contract_type\": [\"Service Agreement\", \"License Agreement\"]\n",
    "}\n",
    "\n",
    "# Create dependencies with filter\n",
    "deps_combined = TalkToContractDependencies(\n",
    "    search_service=search_service,\n",
    "    filters=filter_config_combined\n",
    ")\n",
    "\n",
    "# Run query\n",
    "user_query = \"What are the warranty clauses?\"\n",
    "result = await agent.run(user_query, deps=deps_combined)\n",
    "\n",
    "# Display results\n",
    "print(f\"\\n{'='*80}\")\n",
    "print(f\"Query: {user_query}\")\n",
    "print(f\"Filter: Project + Source + Contract Type\")\n",
    "print(f\"{'='*80}\")\n",
    "print(f\"\\nAnswer:\\n{result.output.answer}\")\n",
    "print(f\"\\n{'='*80}\")\n",
    "print(\"Citations:\")\n",
    "print(f\"{'='*80}\")\n",
    "for key, value in result.output.citations.items():\n",
    "    print(f\"  {key}: {value}\")"
   ]
  },
  {
   "cell_type": "markdown",
   "metadata": {},
   "source": [
    "## Inspecting the Response Structure"
   ]
  },
  {
   "cell_type": "code",
   "execution_count": null,
   "metadata": {},
   "outputs": [],
   "source": [
    "# Show the complete response structure\n",
    "print(\"Response fields:\")\n",
    "print(f\"  - answer: {type(result.output.answer)}\")\n",
    "print(f\"  - citations: {type(result.output.citations)}\")\n",
    "print(f\"\\nCitations dictionary:\")\n",
    "import json\n",
    "print(json.dumps(result.output.citations, indent=2))"
   ]
  },
  {
   "cell_type": "markdown",
   "metadata": {},
   "source": [
    "## Custom Query - Try Your Own\n",
    "\n",
    "Use this cell to test custom queries with different filters"
   ]
  },
  {
   "cell_type": "code",
   "execution_count": null,
   "metadata": {},
   "outputs": [],
   "source": [
    "# Define your custom filter (or set to None for no filter)\n",
    "my_filter = {\n",
    "    \"documents\": [\n",
    "        {\n",
    "            \"project_id\": \"00149794-2432-4c18-b491-73d0fafd3efd\",\n",
    "            \"reference_doc_id\": \"577ff0a3-a032-5e23-bde3-0b6179e97949\",\n",
    "        }\n",
    "    ]\n",
    "}\n",
    "\n",
    "# Or set to None for no filter:\n",
    "# my_filter = None\n",
    "\n",
    "# Create dependencies\n",
    "deps_custom = TalkToContractDependencies(\n",
    "    search_service=search_service,\n",
    "    filters=my_filter\n",
    ")\n",
    "\n",
    "# Your custom query\n",
    "my_query = \"What are the termination conditions?\"\n",
    "\n",
    "# Run query\n",
    "result = await agent.run(my_query, deps=deps_custom)\n",
    "\n",
    "# Display results\n",
    "print(f\"\\n{'='*80}\")\n",
    "print(f\"Query: {my_query}\")\n",
    "print(f\"{'='*80}\")\n",
    "print(f\"\\nAnswer:\\n{result.output.answer}\")\n",
    "print(f\"\\n{'='*80}\")\n",
    "print(\"Citations:\")\n",
    "print(f\"{'='*80}\")\n",
    "for key, value in result.output.citations.items():\n",
    "    print(f\"  {key}: {value}\")"
   ]
  }
 ],
 "metadata": {
  "kernelspec": {
   "display_name": "contramate",
   "language": "python",
   "name": "python3"
  },
  "language_info": {
   "codemirror_mode": {
    "name": "ipython",
    "version": 3
   },
   "file_extension": ".py",
   "mimetype": "text/x-python",
   "name": "python",
   "nbconvert_exporter": "python",
   "pygments_lexer": "ipython3",
   "version": "3.12.9"
  }
 },
 "nbformat": 4,
 "nbformat_minor": 4
}
