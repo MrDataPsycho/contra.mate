{
 "cells": [
  {
   "cell_type": "code",
   "execution_count": 1,
   "id": "ebe85582",
   "metadata": {},
   "outputs": [
    {
     "name": "stderr",
     "output_type": "stream",
     "text": [
      "\u001b[32m2025-10-12 14:07:10.247\u001b[0m | \u001b[1mINFO    \u001b[0m | \u001b[36mcontramate.utils.settings.base\u001b[0m:\u001b[36mfind_env_file_if_exists\u001b[0m:\u001b[36m22\u001b[0m - \u001b[1mLoading settings from System Environment\u001b[0m\n"
     ]
    }
   ],
   "source": [
    "from contramate.services import DocumentInfo, MarkdownChunkingService\n",
    "from contramate.utils import read_markdown_safe\n",
    "from contramate.dbs.models import ContractAsmd\n",
    "from contramate.utils.settings.core import PostgresSettings\n",
    "from sqlmodel import Session, create_engine, select\n",
    "from pathlib import Path"
   ]
  },
  {
   "cell_type": "code",
   "execution_count": 2,
   "id": "4d4e1b72",
   "metadata": {},
   "outputs": [],
   "source": [
    "ENVFILE_PAHT = Path().absolute().parent.joinpath(\".envs\", \"local.env\")"
   ]
  },
  {
   "cell_type": "code",
   "execution_count": 3,
   "id": "d8d1f892",
   "metadata": {},
   "outputs": [],
   "source": [
    "PG_SETTINGS = PostgresSettings.from_env_file(ENVFILE_PAHT)"
   ]
  },
  {
   "cell_type": "code",
   "execution_count": 4,
   "id": "7abd4bbc",
   "metadata": {},
   "outputs": [
    {
     "name": "stdout",
     "output_type": "stream",
     "text": [
      "/Users/datapsycho/PythonProjects/AgentEngBootCamp/contramate/data/silver/0a70f56d-a6d8-4ac0-810c-db798644bb50/d7fb9ba6-22e1-5d9c-a18e-2fc709c9a562/TRUENORTHENERGYCORP_02_08_2007-EX-10.1-DEVELOPMENT AGREEMENT.PDF.md\n"
     ]
    }
   ],
   "source": [
    "\n",
    "PROJECT_ID = \"0a70f56d-a6d8-4ac0-810c-db798644bb50\"\n",
    "REFERENCE_DOC_ID = \"d7fb9ba6-22e1-5d9c-a18e-2fc709c9a562\"\n",
    "FILENAME = \"TRUENORTHENERGYCORP_02_08_2007-EX-10.1-DEVELOPMENT AGREEMENT.PDF.md\"\n",
    "\n",
    "FILE_PATH = Path().absolute().parent.joinpath(\"data\", \"silver\", PROJECT_ID, REFERENCE_DOC_ID, FILENAME)\n",
    "print(FILE_PATH)"
   ]
  },
  {
   "cell_type": "code",
   "execution_count": 5,
   "id": "tlohh8brgvn",
   "metadata": {},
   "outputs": [],
   "source": [
    "# Query contract_asmd table to get document information\n",
    "\n",
    "def get_doc_info(project_id:str, reference_doc_id: str):\n",
    "    connection_string = PG_SETTINGS.connection_string\n",
    "    engine = create_engine(connection_string, echo=False)\n",
    "\n",
    "    with Session(engine) as session:\n",
    "        # Query by project_id and reference_doc_id\n",
    "        statement = select(ContractAsmd).where(\n",
    "            ContractAsmd.project_id == project_id,\n",
    "            ContractAsmd.reference_doc_id == reference_doc_id\n",
    "        )\n",
    "        contract = session.exec(statement).first()\n",
    "        \n",
    "        if contract:\n",
    "            print(f\"Found contract: {contract.document_title}\")\n",
    "            print(f\"Contract type: {contract.contract_type}\")\n",
    "            \n",
    "            # Create DocumentInfo from database record\n",
    "            doc_info = DocumentInfo(\n",
    "                project_id=contract.project_id,\n",
    "                reference_doc_id=contract.reference_doc_id,\n",
    "                contract_type=contract.contract_type or \"Unknown\"\n",
    "            )\n",
    "            \n",
    "            print(f\"\\nDocumentInfo created:\")\n",
    "            print(f\"  Project ID: {doc_info.project_id}\")\n",
    "            print(f\"  Reference Doc ID: {doc_info.reference_doc_id}\")\n",
    "            print(f\"  Contract Type: {doc_info.contract_type}\")\n",
    "            return doc_info\n",
    "        else:\n",
    "            print(\"Contract not found in database!\")\n",
    "            doc_info = None"
   ]
  },
  {
   "cell_type": "code",
   "execution_count": 6,
   "id": "1ac72f9c",
   "metadata": {},
   "outputs": [
    {
     "name": "stderr",
     "output_type": "stream",
     "text": [
      "\u001b[32m2025-10-12 14:07:10.418\u001b[0m | \u001b[1mINFO    \u001b[0m | \u001b[36mcontramate.utils.file_utils\u001b[0m:\u001b[36mread_markdown\u001b[0m:\u001b[36m36\u001b[0m - \u001b[1mSuccessfully read markdown file: /Users/datapsycho/PythonProjects/AgentEngBootCamp/contramate/data/silver/0a70f56d-a6d8-4ac0-810c-db798644bb50/d7fb9ba6-22e1-5d9c-a18e-2fc709c9a562/TRUENORTHENERGYCORP_02_08_2007-EX-10.1-DEVELOPMENT AGREEMENT.PDF.md (44078 chars)\u001b[0m\n"
     ]
    },
    {
     "name": "stdout",
     "output_type": "stream",
     "text": [
      "Found contract: TRUENORTHENERGYCORP_02_08_2007-EX-10.1-DEVELOPMENT AGREEMENT.PDF\n",
      "Contract type: Development\n",
      "\n",
      "DocumentInfo created:\n",
      "  Project ID: 0a70f56d-a6d8-4ac0-810c-db798644bb50\n",
      "  Reference Doc ID: d7fb9ba6-22e1-5d9c-a18e-2fc709c9a562\n",
      "  Contract Type: Development\n"
     ]
    }
   ],
   "source": [
    "doc_info = get_doc_info(PROJECT_ID, REFERENCE_DOC_ID)\n",
    "markdown_content = read_markdown_safe(FILE_PATH)"
   ]
  },
  {
   "cell_type": "code",
   "execution_count": 7,
   "id": "evwbaph0hue",
   "metadata": {},
   "outputs": [
    {
     "name": "stderr",
     "output_type": "stream",
     "text": [
      "\u001b[32m2025-10-12 14:07:17.410\u001b[0m | \u001b[1mINFO    \u001b[0m | \u001b[36mcontramate.services.markdown_chunking_service\u001b[0m:\u001b[36mprocess_markdown_to_chunks\u001b[0m:\u001b[36m379\u001b[0m - \u001b[1mToken limit per chunk: 5000\u001b[0m\n",
      "\u001b[32m2025-10-12 14:07:17.410\u001b[0m | \u001b[1mINFO    \u001b[0m | \u001b[36mcontramate.services.markdown_chunking_service\u001b[0m:\u001b[36msplit_into_sections\u001b[0m:\u001b[36m241\u001b[0m - \u001b[1mFound preamble content before first header\u001b[0m\n",
      "\u001b[32m2025-10-12 14:07:17.412\u001b[0m | \u001b[1mINFO    \u001b[0m | \u001b[36mcontramate.services.markdown_chunking_service\u001b[0m:\u001b[36mprocess_markdown_to_chunks\u001b[0m:\u001b[36m382\u001b[0m - \u001b[1mSections count in document: 160\u001b[0m\n",
      "\u001b[32m2025-10-12 14:07:17.431\u001b[0m | \u001b[1mINFO    \u001b[0m | \u001b[36mcontramate.services.markdown_chunking_service\u001b[0m:\u001b[36mprocess_markdown_to_chunks\u001b[0m:\u001b[36m599\u001b[0m - \u001b[1mNumber of chunks created: 3\u001b[0m\n"
     ]
    }
   ],
   "source": [
    "# Create MarkdownChunkingService and process chunks\n",
    "if doc_info and markdown_content:\n",
    "    service = MarkdownChunkingService(\n",
    "        markdown_content=markdown_content,\n",
    "        doc_info=doc_info,\n",
    "        token_limit=5000,\n",
    "        min_chunk_size=100\n",
    "    )\n",
    "    \n",
    "    # Process markdown into chunks\n",
    "    result = service()"
   ]
  },
  {
   "cell_type": "code",
   "execution_count": 8,
   "id": "7f7845b2",
   "metadata": {},
   "outputs": [],
   "source": [
    "response = result.unwrap()"
   ]
  },
  {
   "cell_type": "code",
   "execution_count": 11,
   "id": "deee7107",
   "metadata": {},
   "outputs": [
    {
     "name": "stdout",
     "output_type": "stream",
     "text": [
      "content='Context: Document Preamble\\n\\n3.4 If Company elects not to participate in a Substitute Well, or is deemed not to participate in a Substitute Well, this Agreement\\nshall terminate except as provided in Sections 6.2, 6.3, 6.4, and 6.5.\\n\\nContext: Document Preamble > 3. 4 If Company elects not to participate in a Substitute Well, or is deemed not to participate in a Substitute Well, this Agreement\\n\\n**ARTICLE IV**\\n\\nContext: Document Preamble > 3. 4 If Company elects not to participate in a Substitute Well, or is deemed not to participate in a Substitute Well, this Agreement\\n\\n**EARNING RIGHTS**\\n\\nContext: Document Preamble\\n\\n4.1 When and if the Initial Well is drilled to the Objective Zone and successfully Completed as a well capable of producing oil\\nand/or gas in paying quantities, BP shall assign to Company, by partial assignment in the form attached hereto as Exhibit “E”(the “Partial\\nAssignment”), an eight and three quarters percent (8.75%) working interest in the Initial Well and an eight and three quarters percent (8.75%)\\ninterest in the BP Interests.\\n\\nContext: Document Preamble\\n\\n4.2 If the Initial Well is not drilled to the Objective Zone, for any reason, but the Initial Well is successfully Completed as a well\\ncapable of producing oil and/or gas in paying quantities, BP shall assign to Company, by partial assignment in the form of the Partial Assignment,\\nan eight and three quarters percent (8.75%) working interest in the Initial Well and an undivided eight and three quarters percent (8.75%) interest in\\nthe BP Interests, but limited as to the geographic boundaries of the Unit in which the Initial Well is located and further limited as to those depths\\nbetween the surface and the stratigraphic equivalent of the deepest Zone penetrated in the Initial Well (the “Partial Interest”). BP and Company\\nshall conduct operations with respect to such Initial Well as if they have entered into the Operating Agreement until such well or a Substitute Well\\nis drilled to and successfully Completed in the Objective Zone or until this Agreement is terminated; provided, however, if this Agreement is to be\\nterminated without Company earning its proportionate share of the BP Interests in accordance with Section 4.1, then the Parties shall enter into an\\noperating agreement in the form of the Operating Agreement except that the contract area of such operating agreement shall be limited to the Partial\\n\\nInterest.\\n\\nContext: Document Preamble > 4. 2 If the Initial Well is not drilled to the Objective Zone, for any reason, but the Initial Well is successfully Completed as a well\\n\\n**ARTICLE V**\\n\\nContext: Document Preamble > 4. 2 If the Initial Well is not drilled to the Objective Zone, for any reason, but the Initial Well is successfully Completed as a well\\n\\n**JOINT OPERATIONS**\\n\\nContext: Document Preamble\\n\\n5.1 BP does not own but has a limited non-exclusive right to use the Data in accordance with the Seismic Use Agreements. Under\\nthe Seismic Use Agreements, BP may not sell, assign, copy, transfer, display, exhibit or in any way reveal the Data, except as authorized by and in\\ncompliance with the provisions of the Seismic Use Agreements. Therefore, Company’s access to the Data shall be limited, and may be prohibited all\\ntogether upon execution of this Agreement, unless Company obtains the consent or otherwise enters into a seismic license or seismic use\\nagreement with the Data Owner. **BP does not represent or warrant in any way, and expressly disclaims any representations or warranties, of any**\\n\\nContext: Document Preamble > 5. 1 BP does not own but has a limited non-exclusive right to use the Data in accordance with the Seismic Use Agreements. Under\\n\\n**kind, express, implied or otherwise, that it owns the Data or otherwise has the right to provide all or any portion of the Data to Company.**\\n\\nContext: Document Preamble\\n\\n5.2 BP shall deliver to Company the Well Information derived from or attributable to the Initial Well and any Substitute Well and\\nAdditional Well, if such Well Information is acquired, obtained, or performed by BP.\\n\\nContext: Document Preamble\\n\\n5.3 The Initial Well and each Substitute Well and Additional Well shall be under the exclusive control of BP and the operation\\nthereof shall be conducted in a prudent and workmanlike manner. BP shall conduct all its activities under this Agreement as a reasonable prudent\\noperator, in a good and workmanlike manner, with due diligence and dispatch, in accordance with good oilfield practice, and in compliance with\\napplicable law and regulation, but in no event shall BP have any liability to Company for losses sustained or liabilities or obligations incurred\\nexcept such as may result from BP’s gross negligence or willful misconduct.\\n\\nContext: Document Preamble\\n\\n5.4 Except as otherwise specifically provided in this Agreement, BP shall promptly pay and discharge expenses incurred in drilling\\nthe Initial Well and each Substitute Well and Additional Well pursuant to this Agreement and shall charge Company with its proportionate shares\\nupon the expense basis provided in Exhibit “C” to the Operating Agreement, whether or not such Operating Agreement has been executed by the\\nParties. BP shall keep an accurate record, in accordance with generally accepted accounting principles, showing expenses incurred and charges and\\ncredits made and received.\\n\\nContext: Document Preamble\\n\\n5.5 When and if the Initial Well is drilled to the Objective Zone and successfully Completed as a well capable of producing oil\\nand/or gas in paying quantities, BP and Company shall enter into an operating agreement attached hereto as Exhibit “F” (the “Operating\\nAgreement”) covering the Contract Area. The Operating Agreement shall be executed contemporaneously with the Partial Assignment but shall be\\neffective on October 1, 2006. The Operating Agreement shall apply to all Additional Wells. **In the event of any conflict between the Operating**\\n\\nContext: Document Preamble > 5. 5 When and if the Initial Well is drilled to the Objective Zone and successfully Completed as a well capable of producing oil\\n\\n**Agreement and this Agreement, this Agreement shall govern.**\\n\\nContext: Document Preamble\\n\\n5.6 Unless Company elects by thirty (30) days’ prior written notice to BP either to take in kind or to separately dispose of its share\\nof oil, gas and other hydrocarbons, BP shall in good faith, to the extent it can do so, cause Company’s share of production from the Initial Well and\\neach Substitute Well and Additional Wells to be marketed and sold to either a Third Party or to an Affiliate of BP in a commercially reasonable\\nmanner, which terms shall not be less than on the same terms and conditions as BP’s share of production from such wells are sold. It is recognized\\nby the Parties that BP, or its predecessor, has provided at its cost or made arrangements with Third Parties to provide certain facilities beyond the\\nwellhead (the “Plants”) needed for producing, storing, separating, gathering, treating, processing and delivering production from the Initial Well\\nand each Substitute Well and Additional Well. It is agreed that BP will continue to make the Plants (as they or any contractual arrangements related\\nthereto may be modified, changed or upgraded) proportionately available to handle BP, Company and Third Party production from the Contract\\nArea. It is understood that a proportionate share of the cost of maintaining and operating the Plants, including depreciation or rental in lieu of\\ndepreciation and actual Third Party costs, whether on a cash fee basis or on a retained volume basis, will be allocated to the Parties on a\\n“throughput” basis (being that portion of such costs relating to the production volumes from the Initial Well or, if drilled, any Substitute Well or\\nAdditional Well, as each may bear to the total production volumes handled by the Plants, including any Third Party or BP volumes not produced\\nfrom the Initial Well or, if drilled, any Substitute Well or Additional Well). **Nothing herein shall be construed to impart, transfer or convey any**\\n\\nContext: Document Preamble > 5. 6 Unless Company elects by thirty (30) days’ prior written notice to BP either to take in kind or to separately dispose of its share\\n\\n**ownership interest in the Plants to Company.**\\n\\nContext: Document Preamble\\n\\n5.7 If any lands within the Contract Area (other than those lands covered by the Leases) contain an interest which is unleased or\\nleased to a Third Party and such interest must be carried in order to conduct operations consistent with this Agreement (such Third Party interest\\nbeing a “Carried Interest”), Company shall bear eight and three quarters percent (8.75%) of the Carried Interests in order to conduct such\\noperations.\\n\\nContext: Document Preamble\\n\\n5.8 At all times while this Agreement is in effect, Company shall carry insurance of the types and in the minimum amounts set forth\\nin Exhibit “G”. All such insurance set forth in Exhibit “G” shall specifically name BP as an additional insured or provide that the insurer shall waive\\nall rights of subrogation against BP.\\n\\nContext: Document Preamble > 5. 8 At all times while this Agreement is in effect, Company shall carry insurance of the types and in the minimum amounts set forth\\n\\n**ARTICLE VI**\\n\\nContext: Document Preamble > 5. 8 At all times while this Agreement is in effect, Company shall carry insurance of the types and in the minimum amounts set forth\\n\\n**TERM AND TERMINATION**\\n\\nContext: Document Preamble\\n\\n6.1 Except as provided in Sections 6.2, 6.3, 6.4, and 6.5, this Agreement shall terminate one (1) year from the Rig Release Date, if\\nsuch has not been terminated sooner pursuant to the provisions hereof.\\n\\nContext: Document Preamble\\n\\n6.2 Notwithstanding Section 6.1, if the Initial Well is drilled to the Objective Zone and successfully Completed as a well capable of\\nproducing oil and/or gas in paying quantities, this Agreement shall continue for so long as the Operating Agreement remains in full force and\\neffect.\\n\\nContext: Document Preamble\\n\\n6.3 Notwithstanding Section 6.1, this Agreement shall remain in full force and effect for so long as Company participates in the\\ndrilling of a Substitute Well in accordance with Section 3.2.\\n\\nContext: Document Preamble\\n\\n6.4 Notwithstanding anything in this Agreement to the contrary, if Company earns a Partial Interest in the Initial Well and the BP\\nInterests pursuant to Section 4.2, the Parties shall first enter into an operating agreement in the form of the Operating Agreement, except that the\\ncontract area of such operating agreement shall be limited to the Partial Interest, prior to termination of this Agreement.\\n\\nContext: Document Preamble\\n\\n6.5 Notwithstanding anything in this Agreement to the contrary, the expiration or termination of this Agreement shall not release\\nany of the Parties from any obligation or liability which accrued prior to such expiration or termination (including the costs to plug and abandon the\\nInitial Well and any Substitute Wells and Additional Wells) or which, by the terms hereof, is intended to survive such expiration or termination,\\nincluding but not limited to Articles I, X, XI, XII, XIII, XIV, XV, and XVI and Sections 5.1 and 5.6, which terms shall survive indefinitely.\\n\\nContext: Document Preamble > 6. 5 Notwithstanding anything in this Agreement to the contrary, the expiration or termination of this Agreement shall not release\\n\\n**ARTICLE VII**\\n\\nContext: Document Preamble > 6. 5 Notwithstanding anything in this Agreement to the contrary, the expiration or termination of this Agreement shall not release\\n\\n**ASSIGNMENT; PREFERENTIAL RIGHTS**\\n\\nContext: Document Preamble\\n\\n7.1 The rights and obligations created by this Agreement may not be assigned by Company, in whole or in part, without first\\nobtaining BP’s written consent under this Agreement, such consent not to be unreasonably withheld. If BP consents to an assignment by\\nCompany of all or part of its rights and obligations under this Agreement, it is nevertheless understood and agreed that any such consent shall not\\nrelieve Company of its primary liability for the performance of and compliance with the terms and provisions hereof, and shall not have the effect\\nnor be construed to have the effect of waiving this limitation as to future, further, or additional assignments. Any assignment of the rights and\\nobligations under this Agreement by Company without the consent of BP shall be voidable by BP.\\n\\nContext: Document Preamble\\n\\n7.2 Notwithstanding anything to the contrary in any other agreement, including the Operating Agreement, should Company desire\\nto sell all or any part of its interest in the Initial Well, the BP Interests, or any Substitute Well or Additional Well, Company shall promptly give\\nwritten notice to BP, with full information concerning its proposed disposition, which shall include the name and address of the prospective\\ntransferee (who must be ready, willing and able to purchase), the purchase price, a legal description sufficient to identify the property, and all other\\nterms of the offer. BP shall then have an optional prior right, for a period of fifteen (15) days after receipt of such written notice, to purchase for the\\nstated consideration on the same terms and conditions the interest which Company proposes to sell.\\n\\nContext: Document Preamble > 7. 2 Notwithstanding anything to the contrary in any other agreement, including the Operating Agreement, should Company desire\\n\\n**ARTICLE VIII**\\n\\nContext: Document Preamble > 7. 2 Notwithstanding anything to the contrary in any other agreement, including the Operating Agreement, should Company desire\\n\\n**NOTICE**\\n\\nContext: Document Preamble\\n\\n8.1 All notices and other communications required or desired to be given hereunder must be in writing and sent (properly\\naddressed as set forth below) by (a) certified or registered U.S. mail, return receipt requested, with all postage and other charges fully prepaid, (b)\\nhand or courier delivery, or (c) facsimile transmission. Date of service by mail and delivery is the date on which such notice is received by the\\naddressee and by facsimile is the date sent (as evidenced by fax machine generated confirmation of transmission); provided, however, if such date\\nreceived is a Saturday, Sunday or legal holiday, then date of receipt will be on the next date that is not a Saturday, Sunday or legal holiday, and if a\\nfacsimile is received after 5:00 pm local time, then date of receipt will be the next date that is not a Saturday, Sunday or legal holiday. Each Party may\\nchange its address by notifying the other Party in writing of such address change, and the change will be effective thirty (30) days after such\\nnotification is received by the other Party.\\n\\nContext: Document Preamble > 8. 1 All notices and other communications required or desired to be given hereunder must be in writing and sent (properly\\n\\n**FOR COMPANY:**\\n\\nTrue North Energy Corp.\\n1200 Smith Street, 16th Floor\\nHouston, Texas 77002\\nFax No.: (832) 553-7244\\n\\nContext: Document Preamble > 8. 1 All notices and other communications required or desired to be given hereunder must be in writing and sent (properly\\n\\n**FOR BP:**\\n\\nBP America Production Company\\n\\n501 Westlake Park Boulevard\\n\\nHouston, Texas 77079\\nAttention: Tuscaloosa Area Land Negotiator\\nFax No.: (281) 366-4519\\n\\nContext: Document Preamble > 8. 1 All notices and other communications required or desired to be given hereunder must be in writing and sent (properly\\n\\n**ARTICLE IX**\\n\\nContext: Document Preamble > 8. 1 All notices and other communications required or desired to be given hereunder must be in writing and sent (properly\\n\\n**FORCE MAJEURE**\\n\\nContext: Document Preamble\\n\\n9.1 If either Party is rendered unable, wholly or in part, by Force Majeure to carry out its obligations under this Agreement, upon\\nsuch Party giving notice and reasonably full particulars of such Force Majeure in writing to the other Party within a reasonable time after the\\noccurrence of the cause relied upon, the obligations of such Party, upon giving said notice, so far as such Party’s ability to perform such\\nobligations are materially affected by such Force Majeure, shall be suspended during the continuance of any inability so caused, and the cause of\\nthe Force Majeure as far as possible shall be remedied with all reasonable dispatch. The term \"Force Majeure\" means one or a set of circumstances\\nsuch as an act of God, strike, lockout or other industrial disturbances, act of the public enemy, war, terrorism, blockade, riot, lightning, fire, storm,\\nfreezing, flood, explosion, governmental action, delay, restraint or inaction (whether said government\\'s jurisdiction or authority be actual or\\nassumed), including without limitation, governmental action or inaction relating to the permitting of wells, and any other cause, circumstance or\\ncondition (except financial) whether of the kind herein enumerated or otherwise, not reasonably within the control of the Party claiming Force\\nMajeure. The above requirement that any Force Majeure shall be remedied with all reasonable dispatch shall not require the settlement of strikes,\\nlockouts or other labor difficulty by acceding to the demands of opponents therein when such course is inadvisable in the discretion of the Party\\nclaiming Force Majeure.\\n\\nContext: Document Preamble > 9. 1 If either Party is rendered unable, wholly or in part, by Force Majeure to carry out its obligations under this Agreement, upon\\n\\n**ARTICLE X**\\n\\nContext: Document Preamble > 9. 1 If either Party is rendered unable, wholly or in part, by Force Majeure to carry out its obligations under this Agreement, upon\\n\\n**RELATIONSHIP OF THE PARTIES; TAX PARTNERSHIP**\\n\\nContext: Document Preamble\\n\\n10.1 This Agreement does not create, and shall not be construed to create, a partnership, association, joint venture or fiduciary\\nrelationship of any kind or character between the Parties, and shall not be construed to impose any duty, obligation, or liability arising from such a\\nrelationship by or with respect to any Party.\\n\\nContext: Document Preamble\\n\\n10.2 For federal and state income tax purposes only, the Parties shall be governed by the terms and provisions of the Badger\\nProspect Tax Partnership provisions attached as Exhibit “H”.\\n\\nContext: Document Preamble > 10. 2 For federal and state income tax purposes only, the Parties shall be governed by the terms and provisions of the Badger\\n\\n**ARTICLE XI**\\n\\nContext: Document Preamble > 10. 2 For federal and state income tax purposes only, the Parties shall be governed by the terms and provisions of the Badger\\n\\n**ENTIRE AGREEMENT AND CORPORATE AUTHORITY**\\n\\nContext: Document Preamble > 10. 2 For federal and state income tax purposes only, the Parties shall be governed by the terms and provisions of the Badger\\n\\n**11.1** **When executed by the duly authorized representatives of Company and BP, this Agreement shall constitute the entire**\\n\\nContext: Document Preamble > 10. 2 For federal and state income tax purposes only, the Parties shall be governed by the terms and provisions of the Badger\\n\\n**agreement between the Parties regarding the subject matter herein and shall supersede and replace any and all other writings, understandings,**\\n\\nContext: Document Preamble > 10. 2 For federal and state income tax purposes only, the Parties shall be governed by the terms and provisions of the Badger\\n\\n**letters of intent or memorandums of understanding entered into or discussed prior to the execution date hereof.**\\n\\nContext: Document Preamble\\n\\n11.2 The Parties hereto represent that, as of the date of the execution hereof, they are corporations duly authorized, validly existing\\nand in good standing under the laws of the state of their incorporation and are qualified and authorized to do business in the State of Louisiana and\\nthat all requisite corporate power and authority to duly execute, deliver and effectuate this Agreement have been duly obtained.\\n\\nContext: Document Preamble > 11. 2 The Parties hereto represent that, as of the date of the execution hereof, they are corporations duly authorized, validly existing\\n\\n**ARTICLE XII**\\n\\nContext: Document Preamble > 11. 2 The Parties hereto represent that, as of the date of the execution hereof, they are corporations duly authorized, validly existing\\n\\n**LAWS AND REGULATIONS; GOVERNING LAW**\\n\\nContext: Document Preamble\\n\\n12.1 Each Party shall comply with and conduct its operations hereunder in accordance with the Leases, and if applicable,\\nassignment(s) and other agreements relating to the Properties, and all applicable laws, ordinances, rules, regulations, and orders of all federal, state\\nand local governmental authorities having jurisdiction over the operations.\\n\\nContext: Document Preamble > 12. 1 Each Party shall comply with and conduct its operations hereunder in accordance with the Leases, and if applicable,\\n\\n**12.2** **This Agreement and all matters pertaining hereto shall be governed by and construed under the laws of the State of**\\n\\nContext: Document Preamble > 12. 1 Each Party shall comply with and conduct its operations hereunder in accordance with the Leases, and if applicable,\\n\\n**Louisiana, except to the extent that the conflict of law rules of said state would require that the laws of another state would govern its validity,**\\n\\nContext: Document Preamble > 12. 1 Each Party shall comply with and conduct its operations hereunder in accordance with the Leases, and if applicable,\\n\\n**construction, or interpretation.**\\n\\nContext: Document Preamble > 12. 1 Each Party shall comply with and conduct its operations hereunder in accordance with the Leases, and if applicable,\\n\\n**ARTICLE XIII**\\n\\nContext: Document Preamble > 12. 1 Each Party shall comply with and conduct its operations hereunder in accordance with the Leases, and if applicable,\\n\\n**DISCLAIMERS AND LIMITATION OF LIABILITY**\\n\\nContext: Document Preamble > 12. 1 Each Party shall comply with and conduct its operations hereunder in accordance with the Leases, and if applicable,\\n\\n**13.1** **BP hereby expressly disclaims any and all representations and warranties associated with the Properties, express, statutory,**\\n\\nContext: Document Preamble > 12. 1 Each Party shall comply with and conduct its operations hereunder in accordance with the Leases, and if applicable,\\n\\n**implied or otherwise, including without limitation: (a) warranty of title, except as expressly provided in the Partial Assignment, (b) existence of**\\n\\nContext: Document Preamble > 12. 1 Each Party shall comply with and conduct its operations hereunder in accordance with the Leases, and if applicable,\\n\\n**any and all prospects, (c) geographic, geologic or geophysical characteristics associated with any and all prospects, (d) existence, quality, quantity**\\n\\nContext: Document Preamble > 12. 1 Each Party shall comply with and conduct its operations hereunder in accordance with the Leases, and if applicable,\\n\\n**or recoverability of hydrocarbon and non-hydrocarbon substances associated with the Properties, (e) costs, expenses, revenues, receipts,**\\n\\nContext: Document Preamble > 12. 1 Each Party shall comply with and conduct its operations hereunder in accordance with the Leases, and if applicable,\\n\\n**accounts receivable, accounts payable, suspense fund or gas imbalances associated with the Properties, (f) contractual, economic or financial**\\n\\nContext: Document Preamble > 12. 1 Each Party shall comply with and conduct its operations hereunder in accordance with the Leases, and if applicable,\\n\\n**information and data associated with the Properties, (g) continued financial viability or productivity of the Properties, (h) environmental or**' chunk_index=1 section_hierarchy=['Document Preamble', 'DEVELOPMENT AGREEMENT**', 'ARTICLE I**', 'DEFINITIONS**', '1. 1 “Additional Well” means a well, other than the Initial Well or a Substitute Well, drilled on the Contract Area after Company', '1. 2 “Affiliate” of a Party means (i) the parent company thereof or (ii) any Person directly or indirectly controlled by, controlling, or', '1. 3 “AFE” means an Authority for Expenditure prepared by a Party for the purpose of estimating the costs to be incurred in', '1. 4 “Agreement” has the meaning given to it in the preamble.', '1. 5 “BP” has the meaning given to it in the preamble.', '1. 6 “BP Interests” means the Leases to the extent they are contained within the Contract Area.', '1. 7 “BP GROUP” means the following Persons, individually and collectively: BP and its Affiliates and the officers, directors,', '1. 8 “Carried Interests” has the meaning given to it in Section 5.7.', '1. 9 “Casing Point” means the time when (a) a well has been drilled to the Objective Zone, (b) all logs, tests, and evaluations have', '1. 10 “Company” has the meaning given to it in the preamble.', '1. 11 “Complete” or “Completion” or “Completing” means a single operation intended to complete a well as a producer of oil and/or', '1. 12 “Completion Costs” means the actual costs and expenses incurred in Completing a well subject to this Agreement.', '1. 13 “Contract Area” means the geographic area (covering all depths) defined by the following Units, as they may be amended from', '1. 14 “Data” means 3D seismic data, in whatever form (reels, paper, film, tape, magnetic or electronic, covering the Contract Area.', '1. 15 “Data Owner” means a Third Party who owns the Data.', '1. 16 “Drilling Costs” means the actual costs and expenses incurred in drilling a well subject to this Agreement beginning with the', '1. 17 “Estimated Drilling Costs” has the meaning given to it in Section 2.1.', '1. 18 “Effective Date” has the meaning given to it in the preamble.', '1. 19 “Exhibits” has the meaning given to it in Section 16.6.', '1. 20 “Force Majeure” has the meaning given to it in Section 9.1.', '1. 21 “Initial Well” has the meaning given to it in the recitals.', '1. 22 “Insurance Requirements” has the meaning given to it in Exhibit “G”.', '1. 23 “Leases” has the meaning given to it in the recitals.', '1. 24 “Objective Zone”, with respect to the Initial Well, means the base of the Tuscaloosa C-1 sand, being the stratigraphic', '1. 25 “Operating Agreement” has the meaning given to it in Section 5.5.', '1. 26 “Partial Assignment” has the meaning given to it in Section 4.1.', '1. 27 “Partial Interest” has the meaning given to it in Section 4.2.', '1. 28 “Party” and “Parties” have the meaning given to them in the preamble.', '1. 29 “Person” means any individual or entity, in the broadest sense possible, including but not limited to a corporation, partnership,', '1. 30 “Plants” has the meaning given to it in Section 5.6.', '1. 31 “Properties” mean all of BP’s right, title and interest (real or immovable, personal or movable, mixed, contractual or otherwise),', '1. 32 “Rig Release Date” has the meaning given to it in Section 3.2.', '1. 33 “Seismic Use Agreements” means those agreements between BP and the Data Owner governing BP’s rights and obligations', '1. 34 “Substitute Well” means a well proposed within one (1) year of the Rig Release Date and drilled by BP within the Contract', '1. 35 “Third Party” means a Person other than a Party or an Affiliate of a Party.', '1. 36 “Unit” means a compulsory unit established by the Commissioner of the Office of Conservation within the State of Louisiana', '1. 37 “Well Information” has the meaning give to it in Section 2.2', '1. 38 “Zone” or “Zone(s)” means a stratum of earth containing or thought to contain a common accumulation of oil and/or gas', 'ARTICLE II**', 'DRILLING AND COMPLETING THE INITIAL WELL**', '2. 1 BP has commenced drilling operations for the Initial Well, and, except as provided elsewhere in this Agreement, BP shall', '2. 2 When and if Casing Point is reached in the Initial Well, BP shall give written notice to Company of such occurrence, and such', '2. 3 If BP proposes to Complete the Initial Well and Company timely elects to participate in such Completion attempt in accordance', '2. 4 If BP proposes to Complete the Initial Well and Company elects not to participate in such Completion attempt, or is deemed not', '2. 5 Company shall bear its proportionate part, being eight and three quarters percent (8.75%), of any severance, production and', '2. 6 The Initial Well shall be plugged and abandoned in accordance with applicable regulations and at the cost, risk and expense of', 'ARTICLE III**', 'SUBSTITUTE WELLS**', '3. 1 If, prior to reaching Casing Point in the Initial Well, BP should encounter geological or mechanical conditions which render', '3. 2 If BP does not drill the Initial Well to the Objective Zone, Company shall have the right, but not the obligation, for a period of', '3. 3 If BP proposes to drill a Substitute Well and Company timely elects to participate in such Substitute Well in accordance with', '3. 4 If Company elects not to participate in a Substitute Well, or is deemed not to participate in a Substitute Well, this Agreement', 'ARTICLE IV**', 'EARNING RIGHTS**', '4. 1 When and if the Initial Well is drilled to the Objective Zone and successfully Completed as a well capable of producing oil', '4. 2 If the Initial Well is not drilled to the Objective Zone, for any reason, but the Initial Well is successfully Completed as a well', 'ARTICLE V**', 'JOINT OPERATIONS**', '5. 1 BP does not own but has a limited non-exclusive right to use the Data in accordance with the Seismic Use Agreements. Under', 'kind, express, implied or otherwise, that it owns the Data or otherwise has the right to provide all or any portion of the Data to Company.**', '5. 2 BP shall deliver to Company the Well Information derived from or attributable to the Initial Well and any Substitute Well and', '5. 3 The Initial Well and each Substitute Well and Additional Well shall be under the exclusive control of BP and the operation', '5. 4 Except as otherwise specifically provided in this Agreement, BP shall promptly pay and discharge expenses incurred in drilling', '5. 5 When and if the Initial Well is drilled to the Objective Zone and successfully Completed as a well capable of producing oil', 'Agreement and this Agreement, this Agreement shall govern.**', '5. 6 Unless Company elects by thirty (30) days’ prior written notice to BP either to take in kind or to separately dispose of its share', 'ownership interest in the Plants to Company.**', '5. 7 If any lands within the Contract Area (other than those lands covered by the Leases) contain an interest which is unleased or', '5. 8 At all times while this Agreement is in effect, Company shall carry insurance of the types and in the minimum amounts set forth', 'ARTICLE VI**', 'TERM AND TERMINATION**', '6. 1 Except as provided in Sections 6.2, 6.3, 6.4, and 6.5, this Agreement shall terminate one (1) year from the Rig Release Date, if', '6. 2 Notwithstanding Section 6.1, if the Initial Well is drilled to the Objective Zone and successfully Completed as a well capable of', '6. 3 Notwithstanding Section 6.1, this Agreement shall remain in full force and effect for so long as Company participates in the', '6. 4 Notwithstanding anything in this Agreement to the contrary, if Company earns a Partial Interest in the Initial Well and the BP', '6. 5 Notwithstanding anything in this Agreement to the contrary, the expiration or termination of this Agreement shall not release', 'ARTICLE VII**', 'ASSIGNMENT; PREFERENTIAL RIGHTS**', '7. 1 The rights and obligations created by this Agreement may not be assigned by Company, in whole or in part, without first', '7. 2 Notwithstanding anything to the contrary in any other agreement, including the Operating Agreement, should Company desire', 'ARTICLE VIII**', 'NOTICE**', '8. 1 All notices and other communications required or desired to be given hereunder must be in writing and sent (properly', 'FOR COMPANY:**', 'FOR BP:**', 'ARTICLE IX**', 'FORCE MAJEURE**', '9. 1 If either Party is rendered unable, wholly or in part, by Force Majeure to carry out its obligations under this Agreement, upon', 'ARTICLE X**', 'RELATIONSHIP OF THE PARTIES; TAX PARTNERSHIP**', '10. 1 This Agreement does not create, and shall not be construed to create, a partnership, association, joint venture or fiduciary', '10. 2 For federal and state income tax purposes only, the Parties shall be governed by the terms and provisions of the Badger', 'ARTICLE XI**', 'ENTIRE AGREEMENT AND CORPORATE AUTHORITY**', '11.1** **When executed by the duly authorized representatives of Company and BP, this Agreement shall constitute the entire**', 'agreement between the Parties regarding the subject matter herein and shall supersede and replace any and all other writings, understandings,**', 'letters of intent or memorandums of understanding entered into or discussed prior to the execution date hereof.**', '11. 2 The Parties hereto represent that, as of the date of the execution hereof, they are corporations duly authorized, validly existing', 'ARTICLE XII**', 'LAWS AND REGULATIONS; GOVERNING LAW**', '12. 1 Each Party shall comply with and conduct its operations hereunder in accordance with the Leases, and if applicable,', '12.2** **This Agreement and all matters pertaining hereto shall be governed by and construed under the laws of the State of**', 'Louisiana, except to the extent that the conflict of law rules of said state would require that the laws of another state would govern its validity,**', 'construction, or interpretation.**', 'ARTICLE XIII**', 'DISCLAIMERS AND LIMITATION OF LIABILITY**', '13.1** **BP hereby expressly disclaims any and all representations and warranties associated with the Properties, express, statutory,**', 'implied or otherwise, including without limitation: (a) warranty of title, except as expressly provided in the Partial Assignment, (b) existence of**', 'any and all prospects, (c) geographic, geologic or geophysical characteristics associated with any and all prospects, (d) existence, quality, quantity**', 'or recoverability of hydrocarbon and non-hydrocarbon substances associated with the Properties, (e) costs, expenses, revenues, receipts,**', 'accounts receivable, accounts payable, suspense fund or gas imbalances associated with the Properties, (f) contractual, economic or financial**', 'information and data associated with the Properties, (g) continued financial viability or productivity of the Properties, (h) environmental or**', 'physical condition of the Properties, (i) federal or state income or other tax consequences associated with the Properties, (j) absence of patent or**'] char_start=22316 char_end=45984 token_count=4990 has_tables=False\n"
     ]
    }
   ],
   "source": [
    "print(response.chunks[1])"
   ]
  }
 ],
 "metadata": {
  "kernelspec": {
   "display_name": ".venv",
   "language": "python",
   "name": "python3"
  },
  "language_info": {
   "codemirror_mode": {
    "name": "ipython",
    "version": 3
   },
   "file_extension": ".py",
   "mimetype": "text/x-python",
   "name": "python",
   "nbconvert_exporter": "python",
   "pygments_lexer": "ipython3",
   "version": "3.12.9"
  }
 },
 "nbformat": 4,
 "nbformat_minor": 5
}
