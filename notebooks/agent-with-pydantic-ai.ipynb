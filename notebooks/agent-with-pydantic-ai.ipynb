{
 "cells": [
  {
   "cell_type": "code",
   "execution_count": 15,
   "id": "d0c55097",
   "metadata": {},
   "outputs": [],
   "source": [
    "from pathlib import Path\n",
    "\n",
    "import asyncio\n",
    "from contramate.llm import LLMVanillaClientFactory\n",
    "from pydantic_ai import Agent\n",
    "from pydantic_ai.models.openai import OpenAIChatModel\n",
    "from pydantic_ai.providers.openai import OpenAIProvider\n",
    "from pydantic import BaseModel\n",
    "from pydantic_ai.run import AgentRunResult"
   ]
  },
  {
   "cell_type": "code",
   "execution_count": 16,
   "id": "9b236027",
   "metadata": {},
   "outputs": [
    {
     "name": "stdout",
     "output_type": "stream",
     "text": [
      "Loading environment variables from: /Users/datapsycho/PythonProjects/AgentEngBootCamp/contramate/.envs/local.env\n"
     ]
    }
   ],
   "source": [
    "ENV_FILE = Path().absolute().parent / \".envs\" / \"local.env\"\n",
    "print(f\"Loading environment variables from: {ENV_FILE}\")"
   ]
  },
  {
   "cell_type": "code",
   "execution_count": 17,
   "id": "d60db606",
   "metadata": {},
   "outputs": [
    {
     "name": "stderr",
     "output_type": "stream",
     "text": [
      "\u001b[32m2025-10-20 19:38:15.172\u001b[0m | \u001b[1mINFO    \u001b[0m | \u001b[36mcontramate.llm.factory\u001b[0m:\u001b[36mget_default_client\u001b[0m:\u001b[36m81\u001b[0m - \u001b[1mCreating vanilla async client for provider: openai\u001b[0m\n"
     ]
    }
   ],
   "source": [
    "factory = LLMVanillaClientFactory.from_env_file(env_path=ENV_FILE)\n",
    "client = factory.get_default_client(async_mode=True)\n",
    "provider = OpenAIProvider(openai_client=client)\n",
    "model = OpenAIChatModel(\n",
    "        \"gpt-4.1-mini\",\n",
    "        provider=provider,\n",
    "    )"
   ]
  },
  {
   "cell_type": "code",
   "execution_count": 18,
   "id": "b044975d",
   "metadata": {},
   "outputs": [
    {
     "data": {
      "text/plain": [
       "openai.AsyncOpenAI"
      ]
     },
     "execution_count": 18,
     "metadata": {},
     "output_type": "execute_result"
    }
   ],
   "source": [
    "type(client)"
   ]
  },
  {
   "cell_type": "code",
   "execution_count": 19,
   "id": "12fd626f",
   "metadata": {},
   "outputs": [],
   "source": [
    "class QueryRewriteResponse(BaseModel):\n",
    "    actual: str\n",
    "    rewritten: str"
   ]
  },
  {
   "cell_type": "code",
   "execution_count": 30,
   "id": "c8fd59dd",
   "metadata": {},
   "outputs": [],
   "source": [
    "SYSTEM_PROMPT = \"\"\"\n",
    "You are an expert at updating questions to make them ask for one thing only, more atomic, specific and easier to find the answer for.\n",
    "You do this by filling in missing information in the question, with the extra information provided to you in previous answers. \n",
    "\n",
    "You respond with the updated question that has all information in it.\n",
    "Only edit the question if needed. If the original question already is atomic, specific and easy to answer, you keep the original.\n",
    "Do not ask for more information than the original question. Only rephrase the question to make it more complete.\n",
    "You can also convert any known abbreviations to their full forms but also keep the abbreviations in parentheses next to the full form.\n",
    "\"\"\""
   ]
  },
  {
   "cell_type": "code",
   "execution_count": 21,
   "id": "6bbe8d52",
   "metadata": {},
   "outputs": [],
   "source": [
    "agent = Agent(\n",
    "        model=model,\n",
    "        system_prompt=SYSTEM_PROMPT,\n",
    "        output_type=QueryRewriteResponse,\n",
    "    )\n"
   ]
  },
  {
   "cell_type": "code",
   "execution_count": 33,
   "id": "2b1ff379",
   "metadata": {},
   "outputs": [],
   "source": [
    "agent_response: AgentRunResult = await agent.run(\"What are the main benefits of AI?\")"
   ]
  },
  {
   "cell_type": "code",
   "execution_count": null,
   "id": "67a66210",
   "metadata": {},
   "outputs": [
    {
     "data": {
      "text/plain": [
       "QueryRewriteResponse(actual='What are the main benefits of AI?', rewritten='What are the main benefits of artificial intelligence (AI)?')"
      ]
     },
     "execution_count": 38,
     "metadata": {},
     "output_type": "execute_result"
    }
   ],
   "source": [
    "agent_response.output"
   ]
  },
  {
   "cell_type": "code",
   "execution_count": null,
   "id": "7e5fb058",
   "metadata": {},
   "outputs": [],
   "source": [
    "async def test_agent():\n",
    "    \"\"\"Simple test agent that says hello to AI\"\"\"\n",
    "    factory = LLMVanillaClientFactory()\n",
    "    client = factory.get_default_client(async_mode=True)\n",
    "    provider = OpenAIProvider(openai_client=client)\n",
    "\n",
    "    model = OpenAIChatModel(\n",
    "        \"gpt-4.1-mini\",\n",
    "        provider=provider,\n",
    "    )\n",
    "\n",
    "    agent = Agent(\n",
    "        model=model,\n",
    "        system_prompt=\"You are a friendly AI assistant. You always respond with properly formatted Markdown.\",\n",
    "    )\n",
    "    result = await agent.run(\"What are the main benefits of cloud computing?\")\n",
    "\n",
    "    # Access the response data and metadata\n",
    "    print(\"Agent response type:\", type(result.output))\n",
    "    print(\"\\nAnswer:\", result.output)\n",
    "    print(\"\\n--- Usage Information ---\")\n",
    "\n",
    "    # Access usage info\n",
    "    usage = result.usage()\n",
    "    print(f\"Input tokens: {usage.input_tokens}\")\n",
    "    print(f\"Output tokens: {usage.output_tokens}\")\n",
    "    print(f\"Total tokens: {usage.total_tokens}\")\n",
    "\n",
    "    # Access the underlying model response for additional details\n",
    "    if result.new_messages():\n",
    "        last_response = result.new_messages()[-1]\n",
    "        print(f\"\\nMessage timestamp: {last_response.timestamp}\")\n",
    "        print(f\"Stop reason: {last_response.finish_reason}\")\n",
    "        print(f\"Message ID: {last_response.provider_response_id}\")\n",
    "        print(f\"Model name: {last_response.model_name}\")\n",
    "    \n",
    "\n",
    "if __name__ == \"__main__\":\n",
    "    asyncio.run(test_agent())\n",
    "\n"
   ]
  }
 ],
 "metadata": {
  "kernelspec": {
   "display_name": "contramate",
   "language": "python",
   "name": "python3"
  },
  "language_info": {
   "codemirror_mode": {
    "name": "ipython",
    "version": 3
   },
   "file_extension": ".py",
   "mimetype": "text/x-python",
   "name": "python",
   "nbconvert_exporter": "python",
   "pygments_lexer": "ipython3",
   "version": "3.12.9"
  }
 },
 "nbformat": 4,
 "nbformat_minor": 5
}
